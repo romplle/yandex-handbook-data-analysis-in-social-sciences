{
 "cells": [
  {
   "cell_type": "markdown",
   "id": "8523d202",
   "metadata": {},
   "source": [
    "#### A: Знакомство с датасетом\n",
    "В этой и последующих задачах мы будем работать с датасетом, основанном на исследовании мировых ценностей WVS Wave 6 (2010-2014).\n",
    "\n",
    "Оригинальный датасет находится по ссылке: Inglehart, R., C. Haerpfer, A. Moreno, C. Welzel, K. Kizilova, J. Diez-Medrano, M. Lagos, P. Norris, E. Ponarin & B. Puranen et al. (eds.). 2014. World Values Survey: Round Six - Country-Pooled Datafile Version.\n",
    "\n",
    "В нем 420 колонок, мы будем работать с переменными, связанными с доверием к разным социальным институтам (с V108 по V124). Более подробно о кодировке переменных в датасете можно посмотреть по той же ссылке, название файла: 'F00007761-WV6_Codebook_v20180912'."
   ]
  },
  {
   "cell_type": "code",
   "execution_count": 4,
   "id": "f09e9173",
   "metadata": {},
   "outputs": [
    {
     "name": "stdout",
     "output_type": "stream",
     "text": [
      "V108    int64\n",
      "V109    int64\n",
      "V110    int64\n",
      "V111    int64\n",
      "V112    int64\n",
      "V113    int64\n",
      "V114    int64\n",
      "V115    int64\n",
      "V116    int64\n",
      "V117    int64\n",
      "V118    int64\n",
      "V119    int64\n",
      "V120    int64\n",
      "V121    int64\n",
      "V122    int64\n",
      "V123    int64\n",
      "dtype: object\n"
     ]
    }
   ],
   "source": [
    "import pandas as pd\n",
    "\n",
    "df = pd.read_csv('WVSW_6_2010_2014.csv')\n",
    "print(df.dtypes)"
   ]
  },
  {
   "cell_type": "markdown",
   "id": "e874cbbf",
   "metadata": {},
   "source": [
    "#### B: Сколько вопросов попадают в первый фактор?\n",
    "В этой и последующих задачах мы продолжим работать с датасетом, основанном на исследовании мировых ценностей WVS Wave 6 (2010-2014).\n",
    "\n",
    "Оригинальный датасет находится по ссылке: Inglehart, R., C. Haerpfer, A. Moreno, C. Welzel, K. Kizilova, J. Diez-Medrano, M. Lagos, P. Norris, E. Ponarin & B. Puranen et al. (eds.). 2014. World Values Survey: Round Six - Country-Pooled Datafile Version.\n",
    "\n",
    "Напоминаем, факторный анализ — метод, подразумевающий выявление и последующее объединение нескольких переменных в один фактор путем определения их математической схожести по общей дисперсии переменных. Фактор — переменная, включающая в себя набор других переменных, связанных статистически.\n",
    "\n",
    "Для выявления количества переменных, которые могут быть объединены в факторы, необходимо выбрать оптимальное количество факторов. Одним из способов выбора оптимального количества факторов является Scree plot. Scree plot — один из способов реализации \"метода локтя\". На графике Scree plot добавлена черная линия на значении 1 по оси Y. По оси X показано количество факторов.\n",
    "\n",
    "Для того, чтобы понять какое количество факторов нам нужно для факторного анализа, мы можем посмотреть на все точки графика, которые занимают значения больше единицы по оси Y. Та точка на графике, которая будет пересекать значения больше единицы или находится около нее, и указывает нам на значение оси X. А значение по оси X и будет являтся нужным количеством факторов."
   ]
  },
  {
   "cell_type": "code",
   "execution_count": 5,
   "id": "b94c857e",
   "metadata": {},
   "outputs": [
    {
     "data": {
      "image/png": "[encoded data removed]",
      "text/plain": [
       "<Figure size 432x288 with 2 Axes>"
      ]
     },
     "metadata": {
      "needs_background": "light"
     },
     "output_type": "display_data"
    }
   ],
   "source": [
    "import pandas as pd\n",
    "import matplotlib.pyplot as plt\n",
    "from statsmodels.multivariate.factor import Factor\n",
    "\n",
    "df = pd.read_csv('WVSW_6_2010_2014.csv')\n",
    "\n",
    "for col in df.columns:\n",
    "    df[col] = (df[col] - df[col].mean()) / df[col].std()\n",
    "\n",
    "fa = Factor(df, n_factor=4)\n",
    "res = fa.fit()\n",
    "\n",
    "res.plot_scree()\n",
    "plt.show()\n",
    "\n",
    "# print(4)"
   ]
  },
  {
   "cell_type": "code",
   "execution_count": 6,
   "id": "878ea6ad",
   "metadata": {},
   "outputs": [
    {
     "name": "stderr",
     "output_type": "stream",
     "text": [
      "C:\\Users\\pc\\AppData\\Local\\Packages\\PythonSoftwareFoundation.Python.3.10_qbz5n2kfra8p0\\LocalCache\\local-packages\\Python310\\site-packages\\sklearn\\utils\\deprecation.py:132: FutureWarning: 'force_all_finite' was renamed to 'ensure_all_finite' in 1.6 and will be removed in 1.8.\n",
      "  warnings.warn(\n"
     ]
    },
    {
     "data": {
      "text/html": [
       "<div>\n",
       "<style scoped>\n",
       "    .dataframe tbody tr th:only-of-type {\n",
       "        vertical-align: middle;\n",
       "    }\n",
       "\n",
       "    .dataframe tbody tr th {\n",
       "        vertical-align: top;\n",
       "    }\n",
       "\n",
       "    .dataframe thead th {\n",
       "        text-align: right;\n",
       "    }\n",
       "</style>\n",
       "<table border=\"1\" class=\"dataframe\">\n",
       "  <thead>\n",
       "    <tr style=\"text-align: right;\">\n",
       "      <th></th>\n",
       "      <th>0</th>\n",
       "      <th>1</th>\n",
       "      <th>2</th>\n",
       "      <th>3</th>\n",
       "    </tr>\n",
       "  </thead>\n",
       "  <tbody>\n",
       "    <tr>\n",
       "      <th>V108</th>\n",
       "      <td>0.220949</td>\n",
       "      <td>0.227508</td>\n",
       "      <td>0.125863</td>\n",
       "      <td>0.276780</td>\n",
       "    </tr>\n",
       "    <tr>\n",
       "      <th>V109</th>\n",
       "      <td>0.147345</td>\n",
       "      <td>0.354425</td>\n",
       "      <td>0.091936</td>\n",
       "      <td>0.297278</td>\n",
       "    </tr>\n",
       "    <tr>\n",
       "      <th>V110</th>\n",
       "      <td>0.234577</td>\n",
       "      <td>0.231798</td>\n",
       "      <td>0.178381</td>\n",
       "      <td>0.739146</td>\n",
       "    </tr>\n",
       "    <tr>\n",
       "      <th>V111</th>\n",
       "      <td>0.195620</td>\n",
       "      <td>0.258944</td>\n",
       "      <td>0.171618</td>\n",
       "      <td>0.730537</td>\n",
       "    </tr>\n",
       "    <tr>\n",
       "      <th>V112</th>\n",
       "      <td>0.276735</td>\n",
       "      <td>0.171220</td>\n",
       "      <td>0.565347</td>\n",
       "      <td>0.210604</td>\n",
       "    </tr>\n",
       "    <tr>\n",
       "      <th>V113</th>\n",
       "      <td>0.189254</td>\n",
       "      <td>0.640520</td>\n",
       "      <td>0.193780</td>\n",
       "      <td>0.244847</td>\n",
       "    </tr>\n",
       "    <tr>\n",
       "      <th>V114</th>\n",
       "      <td>0.250646</td>\n",
       "      <td>0.679081</td>\n",
       "      <td>0.213182</td>\n",
       "      <td>0.203260</td>\n",
       "    </tr>\n",
       "    <tr>\n",
       "      <th>V115</th>\n",
       "      <td>0.229086</td>\n",
       "      <td>0.589156</td>\n",
       "      <td>0.340337</td>\n",
       "      <td>0.214478</td>\n",
       "    </tr>\n",
       "    <tr>\n",
       "      <th>V116</th>\n",
       "      <td>0.120432</td>\n",
       "      <td>0.263889</td>\n",
       "      <td>0.906908</td>\n",
       "      <td>0.127442</td>\n",
       "    </tr>\n",
       "    <tr>\n",
       "      <th>V117</th>\n",
       "      <td>0.306237</td>\n",
       "      <td>0.486868</td>\n",
       "      <td>0.409409</td>\n",
       "      <td>0.213911</td>\n",
       "    </tr>\n",
       "    <tr>\n",
       "      <th>V118</th>\n",
       "      <td>0.312803</td>\n",
       "      <td>0.383849</td>\n",
       "      <td>0.479410</td>\n",
       "      <td>0.185986</td>\n",
       "    </tr>\n",
       "    <tr>\n",
       "      <th>V119</th>\n",
       "      <td>0.550071</td>\n",
       "      <td>0.298363</td>\n",
       "      <td>0.130487</td>\n",
       "      <td>0.193020</td>\n",
       "    </tr>\n",
       "    <tr>\n",
       "      <th>V120</th>\n",
       "      <td>0.610771</td>\n",
       "      <td>0.265979</td>\n",
       "      <td>0.150999</td>\n",
       "      <td>0.197733</td>\n",
       "    </tr>\n",
       "    <tr>\n",
       "      <th>V121</th>\n",
       "      <td>0.530750</td>\n",
       "      <td>0.311098</td>\n",
       "      <td>0.128284</td>\n",
       "      <td>0.240175</td>\n",
       "    </tr>\n",
       "    <tr>\n",
       "      <th>V122</th>\n",
       "      <td>0.750848</td>\n",
       "      <td>0.123382</td>\n",
       "      <td>0.179472</td>\n",
       "      <td>0.129423</td>\n",
       "    </tr>\n",
       "    <tr>\n",
       "      <th>V123</th>\n",
       "      <td>0.691752</td>\n",
       "      <td>0.105002</td>\n",
       "      <td>0.165271</td>\n",
       "      <td>0.127352</td>\n",
       "    </tr>\n",
       "  </tbody>\n",
       "</table>\n",
       "</div>"
      ],
      "text/plain": [
       "             0         1         2         3\n",
       "V108  0.220949  0.227508  0.125863  0.276780\n",
       "V109  0.147345  0.354425  0.091936  0.297278\n",
       "V110  0.234577  0.231798  0.178381  0.739146\n",
       "V111  0.195620  0.258944  0.171618  0.730537\n",
       "V112  0.276735  0.171220  0.565347  0.210604\n",
       "V113  0.189254  0.640520  0.193780  0.244847\n",
       "V114  0.250646  0.679081  0.213182  0.203260\n",
       "V115  0.229086  0.589156  0.340337  0.214478\n",
       "V116  0.120432  0.263889  0.906908  0.127442\n",
       "V117  0.306237  0.486868  0.409409  0.213911\n",
       "V118  0.312803  0.383849  0.479410  0.185986\n",
       "V119  0.550071  0.298363  0.130487  0.193020\n",
       "V120  0.610771  0.265979  0.150999  0.197733\n",
       "V121  0.530750  0.311098  0.128284  0.240175\n",
       "V122  0.750848  0.123382  0.179472  0.129423\n",
       "V123  0.691752  0.105002  0.165271  0.127352"
      ]
     },
     "execution_count": 6,
     "metadata": {},
     "output_type": "execute_result"
    }
   ],
   "source": [
    "import pandas as pd\n",
    "from factor_analyzer import FactorAnalyzer\n",
    "\n",
    "df = pd.read_csv('WVSW_6_2010_2014.csv')\n",
    "\n",
    "for col in df.columns:\n",
    "    df[col] = (df[col] - df[col].mean()) / df[col].std()\n",
    "\n",
    "fa = FactorAnalyzer(n_factors=4,rotation='varimax')\n",
    "fa.fit(df)\n",
    "\n",
    "factor_df=pd.DataFrame(fa.loadings_,index = df.columns)\n",
    "factor_df\n"
   ]
  },
  {
   "cell_type": "markdown",
   "id": "24ff99ee",
   "metadata": {},
   "source": [
    "#### C: Какие вопросы попадают в первый фактор?\n",
    "Мы продолжаем работу с датасетом, основанном на исследовании мировых ценностей WVS Wave 6 (2010-2014).\n",
    "\n",
    "Оригинальный датасет находится по ссылке: Inglehart, R., C. Haerpfer, A. Moreno, C. Welzel, K. Kizilova, J. Diez-Medrano, M. Lagos, P. Norris, E. Ponarin & B. Puranen et al. (eds.). 2014. World Values Survey: Round Six - Country-Pooled Datafile Version.\n",
    "\n",
    "Факторный анализ – это метод, который позволяет сводить несколько статистически близких переменных к одной. В предыдущих задачах, мы определели, что у нас выделяются четыре фактора с собственным значением больше единицы. В этой задаче мы провели факторный анализ с четырьмя факторами для вас, ниже показан код для проведения факторного анализа:"
   ]
  },
  {
   "cell_type": "code",
   "execution_count": 7,
   "id": "eb8f6c4c",
   "metadata": {},
   "outputs": [
    {
     "name": "stdout",
     "output_type": "stream",
     "text": [
      "['V119', 'V120', 'V121', 'V122', 'V123']\n"
     ]
    }
   ],
   "source": [
    "results = []\n",
    "for var in factor_df.index:\n",
    "    if factor_df.loc[var, 0] >= 0.5:\n",
    "        results.append(var)\n",
    "\n",
    "print(results)\n",
    "\n",
    "# print('V119', 'V120', 'V121', 'V122', 'V123')"
   ]
  },
  {
   "cell_type": "markdown",
   "id": "f9ed1db8",
   "metadata": {},
   "source": [
    "#### D: Какие вопросы не попадают ни в один фактор?\n",
    "В предыдущей задаче вы определили переменные, которые относятся к первому фактору. А теперь вам нужно вывести названия переменных, у которых во всех столбцах значение меньше 0,5."
   ]
  },
  {
   "cell_type": "code",
   "execution_count": 8,
   "id": "9725d459",
   "metadata": {},
   "outputs": [
    {
     "name": "stdout",
     "output_type": "stream",
     "text": [
      "['V108', 'V109', 'V117', 'V118']\n"
     ]
    }
   ],
   "source": [
    "results = []\n",
    "for var in factor_df.index:\n",
    "    if all(x < 0.5 for x in factor_df.loc[var].to_list()):\n",
    "        results.append(var)\n",
    "\n",
    "print(results)\n",
    "\n",
    "# print('V108', 'V109', 'V117', 'V118')"
   ]
  },
  {
   "cell_type": "markdown",
   "id": "f856577f",
   "metadata": {},
   "source": [
    "#### E: Есть ли вопросы, которые попадают в два фактора при значении больше 0.4?\n",
    "В предыдущей задаче вы определили, что при значении больше 0.5 три переменных не будут относится ни к одному фактору. Мы выяснили, какие переменные относятся к первому фактору и какие переменные не относятся ни к одному фактору. В факторном анализе иногда происходит так, что при определенном значении переменная может относиться к двум факторам.\n",
    "\n",
    "Давайте изменим условие и определим, какие названия переменных при значении больше 0.4 относятся к двум факторам."
   ]
  },
  {
   "cell_type": "code",
   "execution_count": null,
   "id": "67faba20",
   "metadata": {},
   "outputs": [
    {
     "name": "stdout",
     "output_type": "stream",
     "text": [
      "['V117']\n"
     ]
    }
   ],
   "source": [
    "from collections import Counter\n",
    "\n",
    "results = []\n",
    "for var in factor_df.index:\n",
    "    for factor in factor_df.columns:\n",
    "        if factor_df.loc[var, factor] > 0.4:\n",
    "            results.append(var)\n",
    "\n",
    "duplicates = [item for item, count in Counter(results).items() if count > 1]\n",
    "print(duplicates)\n",
    "\n",
    "# print('V117')"
   ]
  }
 ],
 "metadata": {
  "kernelspec": {
   "display_name": "Python 3",
   "language": "python",
   "name": "python3"
  },
  "language_info": {
   "codemirror_mode": {
    "name": "ipython",
    "version": 3
   },
   "file_extension": ".py",
   "mimetype": "text/x-python",
   "name": "python",
   "nbconvert_exporter": "python",
   "pygments_lexer": "ipython3",
   "version": "3.10.11"
  }
 },
 "nbformat": 4,
 "nbformat_minor": 5
}
