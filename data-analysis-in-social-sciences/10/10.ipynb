{
 "cells": [
  {
   "cell_type": "markdown",
   "id": "bdda94a1",
   "metadata": {},
   "source": [
    "#### A: Ознакомление с датасетом\n",
    "В этой и последующих задачах мы будем работать с датасетом преступлений в Чикаго за 2015 год. Ознакомиться с полной версией датасета можно по ссылке: https://data.cityofchicago.org/Public-Safety/Crimes-2001-to-Present/ijzp-q8t2/data. В датасет была добавлена колонка 'Counts', связанная с количеством преступлений.\n",
    "\n",
    "В качестве учебной практики мы зададимся вопросом, как изменяется количество преступлений. Колонка 'Counts' будет для нас зависимой переменной. Перед основным анализом вам необходимо вывести информацию о датасете с помощью фунции info().\n",
    "\n",
    "Датасет доступен под названием \"Crimes_2015.csv\""
   ]
  },
  {
   "cell_type": "code",
   "execution_count": 1,
   "id": "b85cb556",
   "metadata": {},
   "outputs": [
    {
     "name": "stdout",
     "output_type": "stream",
     "text": [
      "<class 'pandas.core.frame.DataFrame'>\n",
      "RangeIndex: 16649 entries, 0 to 16648\n",
      "Data columns (total 9 columns):\n",
      " #   Column                Non-Null Count  Dtype  \n",
      "---  ------                --------------  -----  \n",
      " 0   Dates                 16649 non-null  object \n",
      " 1   Primary Type          16649 non-null  object \n",
      " 2   Location Description  16649 non-null  object \n",
      " 3   Arrest                16649 non-null  int64  \n",
      " 4   Domestic              16649 non-null  int64  \n",
      " 5   Ward                  16649 non-null  float64\n",
      " 6   Counts                16649 non-null  int64  \n",
      " 7   District              16649 non-null  int64  \n",
      " 8   Primary Types         16649 non-null  int64  \n",
      "dtypes: float64(1), int64(5), object(3)\n",
      "memory usage: 1.1+ MB\n",
      "None\n"
     ]
    }
   ],
   "source": [
    "import pandas as pd\n",
    "\n",
    "df = pd.read_csv('Crimes_2015.csv')\n",
    "\n",
    "print(df.info())"
   ]
  },
  {
   "cell_type": "markdown",
   "id": "9a7c2d6a",
   "metadata": {},
   "source": [
    "#### B: Проверка зависимой переменной на нормальность\n",
    "Одно из условий зависимой переменной является нормальное распределение. Мы нарисовали распределение зависимой переменной. Вам необходимо посмотреть на график и определить какая формулировка подходит к распределению на рисунке больше всего:\n",
    "\n",
    "1. На графике представлено нормальное распределение.\n",
    "2. Распределение напоминает нормальное, но оно смещено вправо.\n",
    "3. Распределение напоминает нормальное, но они смещено влево.\n",
    "4. Зависимая переменная распределена ненормально.\n",
    "\n",
    "Пример записи ответа: print('5').\n",
    "\n",
    "Датасет доступен под названием \"Crimes_2015.csv\""
   ]
  },
  {
   "cell_type": "code",
   "execution_count": null,
   "id": "f09e9173",
   "metadata": {},
   "outputs": [
    {
     "data": {
      "image/png": "[encoded data removed]",
      "text/plain": [
       "<Figure size 432x288 with 1 Axes>"
      ]
     },
     "metadata": {
      "needs_background": "light"
     },
     "output_type": "display_data"
    }
   ],
   "source": [
    "import pandas as pd\n",
    "import matplotlib.pyplot as plt\n",
    "\n",
    "df = pd.read_csv('Crimes_2015.csv')\n",
    "\n",
    "plt.hist(df['Counts'])\n",
    "plt.show()\n",
    "\n",
    "# print('2') ???"
   ]
  },
  {
   "cell_type": "markdown",
   "id": "223d90a6",
   "metadata": {},
   "source": [
    "#### C: Просмотр дескриптивной статистики\n",
    "В предыдущей задаче мы рассматривали распределение зависимой переменной, а теперь мы хотим посмотреть на распределение количественных переменных, которые есть в датасете.\n",
    "\n",
    "Выведите описательную статистику по каждой переменной с помощью функции df.describe().\n",
    "\n",
    "Датасет доступен под названием \"Crimes_2015.csv\""
   ]
  },
  {
   "cell_type": "code",
   "execution_count": null,
   "id": "06cd5051",
   "metadata": {},
   "outputs": [
    {
     "name": "stdout",
     "output_type": "stream",
     "text": [
      "             Arrest      Domestic          Ward        Counts      District  \\\n",
      "count  16649.000000  16649.000000  16649.000000  16649.000000  16649.000000   \n",
      "mean       0.247883      0.161751     22.761487    621.183014     11.227821   \n",
      "std        0.431796      0.368234     13.945305    189.768234      6.887076   \n",
      "min        0.000000      0.000000      1.000000      1.000000      1.000000   \n",
      "25%        0.000000      0.000000     10.000000    626.000000      6.000000   \n",
      "50%        0.000000      0.000000     22.000000    677.000000     10.000000   \n",
      "75%        0.000000      0.000000     34.000000    724.000000     17.000000   \n",
      "max        1.000000      1.000000     50.000000    776.000000     31.000000   \n",
      "\n",
      "       Primary Types  \n",
      "count   16649.000000  \n",
      "mean       13.892366  \n",
      "std        11.063366  \n",
      "min         0.000000  \n",
      "25%         2.000000  \n",
      "50%         9.000000  \n",
      "75%        26.000000  \n",
      "max        30.000000  \n"
     ]
    }
   ],
   "source": [
    "import pandas as pd\n",
    "\n",
    "df = pd.read_csv('Crimes_2015.csv')\n",
    "\n",
    "print(df.describe())"
   ]
  },
  {
   "cell_type": "markdown",
   "id": "02c32f64",
   "metadata": {},
   "source": [
    "#### D: Линейная регрессия\n",
    "Мы будет анализировать зависимую переменную 'Counts' по следующим переменным: 'Ward', 'District', 'Primary Types', 'Domestic', 'Arrest'. C помощью кода, представленного ниже, мы вывели модели линейной регрессии.\n",
    "\n",
    "Посмотрите на результаты выдачи и выведите названия переменных, p-value которых меньше 0,05.\n",
    "\n",
    "Датасет доступен под названием \"Crimes_2015.csv\"\n",
    "\n",
    "Формат ввода\n",
    "print('Ward')\n",
    "\n",
    "Формат вывода\n",
    "Ward"
   ]
  },
  {
   "cell_type": "code",
   "execution_count": null,
   "id": "cf44f7b8",
   "metadata": {},
   "outputs": [
    {
     "name": "stdout",
     "output_type": "stream",
     "text": [
      "                            OLS Regression Results                            \n",
      "==============================================================================\n",
      "Dep. Variable:                 Counts   R-squared:                       0.014\n",
      "Model:                            OLS   Adj. R-squared:                  0.014\n",
      "Method:                 Least Squares   F-statistic:                     46.66\n",
      "Date:                Thu, 24 Jul 2025   Prob (F-statistic):           4.65e-48\n",
      "Time:                        21:16:14   Log-Likelihood:            -1.1084e+05\n",
      "No. Observations:               16649   AIC:                         2.217e+05\n",
      "Df Residuals:                   16643   BIC:                         2.217e+05\n",
      "Df Model:                           5                                         \n",
      "Covariance Type:            nonrobust                                         \n",
      "=================================================================================\n",
      "                    coef    std err          t      P>|t|      [0.025      0.975]\n",
      "---------------------------------------------------------------------------------\n",
      "Ward             -0.1141      0.144     -0.791      0.429      -0.397       0.169\n",
      "District         -0.0934      0.291     -0.321      0.748      -0.664       0.478\n",
      "Primary Types    -0.4717      0.138     -3.411      0.001      -0.743      -0.201\n",
      "Domestic         22.0554      4.155      5.309      0.000      13.912      30.199\n",
      "Arrest           46.1892      3.390     13.627      0.000      39.545      52.833\n",
      "const           616.3658      3.785    162.844      0.000     608.947     623.785\n",
      "==============================================================================\n",
      "Omnibus:                     7490.902   Durbin-Watson:                   1.661\n",
      "Prob(Omnibus):                  0.000   Jarque-Bera (JB):            29080.073\n",
      "Skew:                          -2.329   Prob(JB):                         0.00\n",
      "Kurtosis:                       7.498   Cond. No.                         104.\n",
      "==============================================================================\n",
      "\n",
      "Notes:\n",
      "[1] Standard Errors assume that the covariance matrix of the errors is correctly specified.\n"
     ]
    }
   ],
   "source": [
    "import pandas as pd\n",
    "import statsmodels.api as sm\n",
    "from statsmodels.regression.linear_model import OLS\n",
    "\n",
    "df = pd.read_csv('Crimes_2015.csv')\n",
    "\n",
    "X = df[['Ward', 'District', 'Primary Types', 'Domestic', 'Arrest']]\n",
    "Y = df['Counts']\n",
    "\n",
    "X = sm.add_constant(X, prepend=False)\n",
    "\n",
    "model = OLS(Y, X)\n",
    "res = model.fit()\n",
    "print(res.summary())\n",
    "\n",
    "# print('Primary Types', 'Domestic', 'Arrest')"
   ]
  },
  {
   "cell_type": "markdown",
   "id": "12c66f54",
   "metadata": {},
   "source": [
    "#### F: Линейная регрессия (2)\n",
    "Мы будет анализировать зависимую переменную 'Counts' по переменным, у которых p-value было меньше 0.05. Это переменные: 'Primary Types', 'Domestic', 'Arrest'.\n",
    "\n",
    "Ответьте на вопрос: улучшилось ли качество модели после удаление из нее двух независимых переменных?\n",
    "\n",
    "Выберите один вариант ответа:\n",
    "\n",
    "1. R2 квадрат не изменился, переменные 'Ward', 'District' не добавляли качество модели.\n",
    "2. R2 квадрат изменился, переменные 'Ward', 'District' делали модель лучше.\n",
    "\n",
    "Датасет доступен под названием \"Crimes_2015.csv\"\n",
    "\n",
    "Формат ввода\n",
    "print('3')\n",
    "\n",
    "Формат вывода\n",
    "3"
   ]
  },
  {
   "cell_type": "code",
   "execution_count": 15,
   "id": "801f8bac",
   "metadata": {},
   "outputs": [
    {
     "name": "stdout",
     "output_type": "stream",
     "text": [
      "                            OLS Regression Results                            \n",
      "==============================================================================\n",
      "Dep. Variable:                 Counts   R-squared:                       0.014\n",
      "Model:                            OLS   Adj. R-squared:                  0.014\n",
      "Method:                 Least Squares   F-statistic:                     77.09\n",
      "Date:                Thu, 24 Jul 2025   Prob (F-statistic):           1.63e-49\n",
      "Time:                        21:29:21   Log-Likelihood:            -1.1085e+05\n",
      "No. Observations:               16649   AIC:                         2.217e+05\n",
      "Df Residuals:                   16645   BIC:                         2.217e+05\n",
      "Df Model:                           3                                         \n",
      "Covariance Type:            nonrobust                                         \n",
      "=================================================================================\n",
      "                    coef    std err          t      P>|t|      [0.025      0.975]\n",
      "---------------------------------------------------------------------------------\n",
      "Primary Types    -0.4799      0.138     -3.476      0.001      -0.751      -0.209\n",
      "Domestic         22.3396      4.150      5.384      0.000      14.206      30.473\n",
      "Arrest           46.2569      3.389     13.648      0.000      39.614      52.900\n",
      "const           612.7706      2.769    221.336      0.000     607.344     618.197\n",
      "==============================================================================\n",
      "Omnibus:                     7494.153   Durbin-Watson:                   1.661\n",
      "Prob(Omnibus):                  0.000   Jarque-Bera (JB):            29110.950\n",
      "Skew:                          -2.330   Prob(JB):                         0.00\n",
      "Kurtosis:                       7.501   Cond. No.                         54.3\n",
      "==============================================================================\n",
      "\n",
      "Notes:\n",
      "[1] Standard Errors assume that the covariance matrix of the errors is correctly specified.\n"
     ]
    }
   ],
   "source": [
    "import statsmodels.api as sm\n",
    "from statsmodels.regression.linear_model import OLS\n",
    "import pandas as pd\n",
    "\n",
    "df = pd.read_csv('Crimes_2015.csv')\n",
    "\n",
    "X = df[['Primary Types', 'Domestic', 'Arrest']]\n",
    "Y = df['Counts']\n",
    "\n",
    "X = sm.add_constant(X, prepend=False)\n",
    "\n",
    "model = OLS(Y, X)\n",
    "res = model.fit()\n",
    "print(res.summary())\n",
    "\n",
    "# print('1')"
   ]
  },
  {
   "cell_type": "markdown",
   "id": "f6cde7fd",
   "metadata": {},
   "source": [
    "#### G: Выбор наилучшей модели\n",
    "Мы с вами создали две модели линейной регрессии. Выберите модель, которая лучше предсказывает количество совершенных преступлений в Чикаго.\n",
    "\n",
    "Первая модель содержала следующие независимые переменные: ['Ward', 'District', 'Primary Types', 'Domestic', 'Arrest']\n",
    "Вторая модель содержала следующие независимые пременные: ['Primary Types', 'Domestic', 'Arrest']\n",
    "Выведите в выдачи, какая модель является наилучшей.\n",
    "\n",
    "Датасет доступен под названием \"Crimes_2015.csv\"\n",
    "\n",
    "Формат ввода\n",
    "print('3')\n",
    "\n",
    "Формат вывода\n",
    "3"
   ]
  },
  {
   "cell_type": "code",
   "execution_count": 14,
   "id": "de074b1d",
   "metadata": {},
   "outputs": [
    {
     "name": "stdout",
     "output_type": "stream",
     "text": [
      "2\n"
     ]
    }
   ],
   "source": [
    "print('2')"
   ]
  },
  {
   "cell_type": "markdown",
   "id": "5624e168",
   "metadata": {},
   "source": [
    "#### H: Проверка допущения о мультиколлинеарности\n",
    "Наилучшей моделью оказалась модель со следущими независимыми переменными ['Primary Types', 'Domestic', 'Arrest']. Теперь нам необходимо понять соблюдается ли допущение модели на мультикорреляции.\n",
    "\n",
    "Напоминаем, \"Мы можем использовать VIF (Variance Inflation Factor). Если он будет больше четырех (ещё одно консенсусное значение, такое же как p-value или минимальное число наблюдений в группе), то это значит, что эта переменная коррелирована с какой-то из присутствующих и её нужно убрать из модели\".\n",
    "\n",
    "Выведите названия всех независимых переменных, которые проходят проверку на мультиколлинеарность.\n",
    "\n",
    "Формат ввода\n",
    "print('Ward')\n",
    "\n",
    "Формат вывода\n",
    "Ward"
   ]
  },
  {
   "cell_type": "code",
   "execution_count": 20,
   "id": "ba93647b",
   "metadata": {},
   "outputs": [
    {
     "name": "stdout",
     "output_type": "stream",
     "text": [
      "         feature       VIF\n",
      "0  Primary Types  1.216226\n",
      "1       Domestic  1.034569\n",
      "2         Arrest  1.219746\n"
     ]
    }
   ],
   "source": [
    "from statsmodels.stats.outliers_influence import variance_inflation_factor\n",
    "\n",
    "X = df[['Primary Types', 'Domestic', 'Arrest']]\n",
    "\n",
    "vif_data = pd.DataFrame()\n",
    "vif_data[\"feature\"] = X.columns\n",
    "\n",
    "vif_data[\"VIF\"] = [variance_inflation_factor(X.values, i) for i in range(len(X.columns))]\n",
    "  \n",
    "print(vif_data)\n",
    "\n",
    "# print('Primary Types', 'Domestic', 'Arrest')"
   ]
  }
 ],
 "metadata": {
  "kernelspec": {
   "display_name": "Python 3",
   "language": "python",
   "name": "python3"
  },
  "language_info": {
   "codemirror_mode": {
    "name": "ipython",
    "version": 3
   },
   "file_extension": ".py",
   "mimetype": "text/x-python",
   "name": "python",
   "nbconvert_exporter": "python",
   "pygments_lexer": "ipython3",
   "version": "3.10.11"
  }
 },
 "nbformat": 4,
 "nbformat_minor": 5
}
