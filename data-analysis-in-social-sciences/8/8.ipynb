{
 "cells": [
  {
   "cell_type": "markdown",
   "id": "bdda94a1",
   "metadata": {},
   "source": [
    "#### A: Что нас волнует?\n",
    "В предыдущих главах мы работали с данными без их предварительной очистки.\n",
    "\n",
    "В этой и следующих задачах мы используем набор данных с фильмами и сериалами компании Disney. CSV файл доступен под названием 'disney_title.csv'. Ознакомиться более подробно с датасетом можно по следующей ссылке: https://www.kaggle.com/datasets/shivamb/disney-movies-and-tv-shows.\n",
    "\n",
    "В этой задаче выведите информацию о датасете, используя функцию .info()"
   ]
  },
  {
   "cell_type": "code",
   "execution_count": 4,
   "id": "b85cb556",
   "metadata": {},
   "outputs": [
    {
     "name": "stdout",
     "output_type": "stream",
     "text": [
      "<class 'pandas.core.frame.DataFrame'>\n",
      "RangeIndex: 1450 entries, 0 to 1449\n",
      "Data columns (total 11 columns):\n",
      " #   Column        Non-Null Count  Dtype \n",
      "---  ------        --------------  ----- \n",
      " 0   type          1450 non-null   object\n",
      " 1   title         1450 non-null   object\n",
      " 2   director      977 non-null    object\n",
      " 3   cast          1260 non-null   object\n",
      " 4   country       1231 non-null   object\n",
      " 5   release_year  1450 non-null   int64 \n",
      " 6   rating        1447 non-null   object\n",
      " 7   duration      1450 non-null   object\n",
      " 8   listed_in     1450 non-null   object\n",
      " 9   description   1450 non-null   object\n",
      " 10  Date          1447 non-null   object\n",
      "dtypes: int64(1), object(10)\n",
      "memory usage: 124.7+ KB\n",
      "None\n"
     ]
    }
   ],
   "source": [
    "import pandas as pd\n",
    "\n",
    "df = pd.read_csv('disney_title.csv')\n",
    "\n",
    "print(df.info())"
   ]
  },
  {
   "cell_type": "markdown",
   "id": "9a7c2d6a",
   "metadata": {},
   "source": [
    "#### B: Какая сегодня дата?\n",
    "В предыдущем задании мы обнаружили, что переменная Date из датасета по фильмам и сериалам компании Disney имеет тип object. В этом задании мы поменяем тип переменной с object на datetime с помощью функции pd.to_datetime(). В выводе распечатайте тип столбца ['Date'] с помощью .dtype\n",
    "\n",
    "CSV файл доступен под названием 'disney_title.csv'."
   ]
  },
  {
   "cell_type": "code",
   "execution_count": 8,
   "id": "f09e9173",
   "metadata": {},
   "outputs": [
    {
     "name": "stdout",
     "output_type": "stream",
     "text": [
      "datetime64[ns]\n"
     ]
    }
   ],
   "source": [
    "import pandas as pd\n",
    "\n",
    "df = pd.read_csv('disney_title.csv')\n",
    "\n",
    "df['Date'] = pd.to_datetime(df['Date'])\n",
    "\n",
    "print(df['Date'].dtype)"
   ]
  },
  {
   "cell_type": "markdown",
   "id": "223d90a6",
   "metadata": {},
   "source": [
    "#### C: А что выходило за год?\n",
    "В предыдущем задании мы изменили тип переменной, содержащей дату, с объекта на значение даты и времени. В этом задании мы отфильтруем датасет с использованием переменной. В начале еще раз измените тип переменной Date на datetime64 и отфильтруйте все фильмы и сериалы, которые выходили с 1 января 2020 года по 1 января 2021 года. В результате выведите переменную с названиями десяти первых фильмов после фильтрации с помощью функции head().\n",
    "\n",
    "CSV файл доступен под названием 'disney_title.csv'.\n",
    "\n",
    "Формат вывода\n",
    "284 American Dragon: Jake Long{br} 285 Car SOS{br} 286 Disney Channel Games 2008{br} 287 Disney Roll It Back (Shorts){br} 288 Dog With a Blog{br} 289 Mickey Go Local{br} 290 Myth: A Frozen Tale{br} 291 Okavango: River of Dreams{br} 292 Pair of Kings{br} 293 Secrets of Sulphur Springs{br} Name: title, dtype: object"
   ]
  },
  {
   "cell_type": "code",
   "execution_count": 39,
   "id": "06cd5051",
   "metadata": {},
   "outputs": [
    {
     "name": "stdout",
     "output_type": "stream",
     "text": [
      "325                                         Burrow\n",
      "326                        Cosmos: Possible Worlds\n",
      "327    Disney Gallery / Star Wars: The Mandalorian\n",
      "328                          Max Keeble's Big Move\n",
      "329                                           Soul\n",
      "330                      Arendelle Castle Yule Log\n",
      "331                       Buried Truth of the Maya\n",
      "332                    Disney Parks Sunrise Series\n",
      "333                                Dory's Reef Cam\n",
      "334                                 Into the Woods\n",
      "Name: title, dtype: object\n"
     ]
    }
   ],
   "source": [
    "import pandas as pd\n",
    "\n",
    "df = pd.read_csv('disney_title.csv')\n",
    "\n",
    "df['Date'] = pd.to_datetime(df['Date'])\n",
    "\n",
    "filtered_df = df[(df['Date'] >= '2020-01-01') & (df['Date'] < '2021-01-01')]\n",
    "\n",
    "print(filtered_df['title'].head(10))"
   ]
  },
  {
   "cell_type": "markdown",
   "id": "02c32f64",
   "metadata": {},
   "source": [
    "#### D: Удаление\n",
    "В этом задании мы продолжаем работать с CSV файлом под названием 'disney_title.csv'. Вам необходимо удалить столбец из датасета 'release_year' и вывести название оставшихся столбцов с помощью функции list()."
   ]
  },
  {
   "cell_type": "code",
   "execution_count": null,
   "id": "cf44f7b8",
   "metadata": {},
   "outputs": [
    {
     "data": {
      "text/plain": [
       "['type',\n",
       " 'title',\n",
       " 'director',\n",
       " 'cast',\n",
       " 'country',\n",
       " 'rating',\n",
       " 'duration',\n",
       " 'listed_in',\n",
       " 'description',\n",
       " 'Date']"
      ]
     },
     "execution_count": 28,
     "metadata": {},
     "output_type": "execute_result"
    }
   ],
   "source": [
    "import pandas as pd\n",
    "\n",
    "df = pd.read_csv('disney_title.csv')\n",
    "\n",
    "df = df.drop(columns=['release_year'])\n",
    "\n",
    "print(list(df.columns))"
   ]
  },
  {
   "cell_type": "markdown",
   "id": "12c66f54",
   "metadata": {},
   "source": [
    "#### E: А можно переименовать?\n",
    "Умение переименовывать датасеты помогает при работе с большими объемами данных. В этом задании вам необходимо поменять название переменных из 'disney_title.csv' на такие же названия написанные с большой буквы. В результате выведите названия стобцов с помощью функции list()."
   ]
  },
  {
   "cell_type": "code",
   "execution_count": 46,
   "id": "801f8bac",
   "metadata": {},
   "outputs": [
    {
     "name": "stdout",
     "output_type": "stream",
     "text": [
      "['Type', 'Title', 'Director', 'Cast', 'Country', 'Release_year', 'Rating', 'Duration', 'Listed_in', 'Description', 'Date']\n"
     ]
    }
   ],
   "source": [
    "import pandas as pd\n",
    "\n",
    "df = pd.read_csv('disney_title.csv')\n",
    "\n",
    "df.columns = df.columns.str.capitalize()\n",
    "\n",
    "print(list(df.columns))"
   ]
  },
  {
   "cell_type": "markdown",
   "id": "9471de43",
   "metadata": {},
   "source": [
    "#### F: А это что за покемон?\n",
    "В этом задании мы продолжаем работать с CSV файлом доступным под названием 'disney_title.csv'.\n",
    "\n",
    "В этом задании вам необходимо заменить \"&\" на \",\" в столбце \"listed_in\", сохранить результат в новую переменную, вывести последние пять значений в новой переменной с помощью функции 'tail()'."
   ]
  },
  {
   "cell_type": "code",
   "execution_count": 64,
   "id": "ebe8c31e",
   "metadata": {},
   "outputs": [
    {
     "name": "stdout",
     "output_type": "stream",
     "text": [
      "1445        Action-Adventure, Family, Science Fiction\n",
      "1446                 Action-Adventure, Comedy, Family\n",
      "1447                      Biographical, Comedy, Drama\n",
      "1448                     Buddy, Comedy, Coming of Age\n",
      "1449    Action-Adventure, Animals , Nature, Animation\n",
      "Name: listed_in1, dtype: object\n"
     ]
    }
   ],
   "source": [
    "import pandas as pd\n",
    "\n",
    "df = pd.read_csv('disney_title.csv')\n",
    "\n",
    "df['listed_in1'] = df['listed_in'].str.replace('&', ',')\n",
    "\n",
    "print(df['listed_in1'].tail())"
   ]
  },
  {
   "cell_type": "markdown",
   "id": "f6cde7fd",
   "metadata": {},
   "source": [
    "#### G: Сколько пропусков?\n",
    "CSV-файл доступен под названием 'disney_title.csv'.\n",
    "\n",
    "В этой задаче требуется вывести количество пропущенных значений по каждому стобцу."
   ]
  },
  {
   "cell_type": "code",
   "execution_count": 69,
   "id": "de074b1d",
   "metadata": {},
   "outputs": [
    {
     "name": "stdout",
     "output_type": "stream",
     "text": [
      "type              0\n",
      "title             0\n",
      "director        473\n",
      "cast            190\n",
      "country         219\n",
      "release_year      0\n",
      "rating            3\n",
      "duration          0\n",
      "listed_in         0\n",
      "description       0\n",
      "Date              3\n",
      "dtype: int64\n"
     ]
    }
   ],
   "source": [
    "import pandas as pd\n",
    "\n",
    "df = pd.read_csv('disney_title.csv')\n",
    "\n",
    "print(df.isnull().sum())"
   ]
  },
  {
   "cell_type": "markdown",
   "id": "5624e168",
   "metadata": {},
   "source": [
    "#### H: Удаление?\n",
    "CSV-файл доступен под названием 'disney_title.csv'. По результатам седьмого задания мы выяснили, что небольшое количество пропущенных значений (по три) находятся в столбцах 'rating' и 'Date'. Воспользуйтесь функцией 'dropna()' для удаления пропущенных значений во всех столбцах. В результате выведите количество пропущенных переменных по каждому столбцу в вашем датасете."
   ]
  },
  {
   "cell_type": "code",
   "execution_count": 84,
   "id": "ba93647b",
   "metadata": {},
   "outputs": [
    {
     "name": "stdout",
     "output_type": "stream",
     "text": [
      "type            0\n",
      "title           0\n",
      "director        0\n",
      "cast            0\n",
      "country         0\n",
      "release_year    0\n",
      "rating          0\n",
      "duration        0\n",
      "listed_in       0\n",
      "description     0\n",
      "Date            0\n",
      "dtype: int64\n"
     ]
    }
   ],
   "source": [
    "import pandas as pd\n",
    "\n",
    "df = pd.read_csv('disney_title.csv')\n",
    "\n",
    "df = df.dropna()\n",
    "\n",
    "print(df.isnull().sum())"
   ]
  },
  {
   "cell_type": "markdown",
   "id": "76f0b14e",
   "metadata": {},
   "source": [
    "#### I: Какой процент пропусков?\n",
    "В предыдущем задании мы смотрели на пропущенные значения без анализа их количества относительно количества заполненных значений во всем датасете. В этом задании мы продолжим работать с CSV файлом под названием 'disney_title.csv'. Выведите процент пропущенных значений относительно всех значений. Результат округлите до сотых с помощью функции \"round()\"."
   ]
  },
  {
   "cell_type": "code",
   "execution_count": 85,
   "id": "36d70e3e",
   "metadata": {},
   "outputs": [
    {
     "name": "stdout",
     "output_type": "stream",
     "text": [
      "type             0.00\n",
      "title            0.00\n",
      "director        32.62\n",
      "cast            13.10\n",
      "country         15.10\n",
      "release_year     0.00\n",
      "rating           0.21\n",
      "duration         0.00\n",
      "listed_in        0.00\n",
      "description      0.00\n",
      "Date             0.21\n",
      "dtype: float64\n"
     ]
    }
   ],
   "source": [
    "import pandas as pd\n",
    "\n",
    "df = pd.read_csv('disney_title.csv')\n",
    "\n",
    "print(round(df.isnull().mean()*100, 2))"
   ]
  },
  {
   "cell_type": "markdown",
   "id": "c2d5a71d",
   "metadata": {},
   "source": [
    "#### J: Замена пропусков\n",
    "Из предыдущего задания мы выяснили, что наибольшие проценты пропущенных значений в CSV файле 'disney_title.csv' находятся в стобцах director (32.62%), cast (13.10%) и country (15.10%). В этом задании нужно заменить пропущенные значения в столбце 'country' на 'Country not specified' с помощью функции 'fillna'. Выведите первые пять первых значений переменной 'country'."
   ]
  },
  {
   "cell_type": "code",
   "execution_count": 90,
   "id": "f091ddb3",
   "metadata": {},
   "outputs": [
    {
     "name": "stdout",
     "output_type": "stream",
     "text": [
      "0    Country not specified\n",
      "1    Country not specified\n",
      "2            United States\n",
      "3    Country not specified\n",
      "4    Country not specified\n",
      "Name: country, dtype: object\n"
     ]
    }
   ],
   "source": [
    "import pandas as pd\n",
    "\n",
    "df = pd.read_csv('disney_title.csv')\n",
    "\n",
    "df['country'] = df['country'].fillna('Country not specified')\n",
    "\n",
    "print(df['country'].head())"
   ]
  }
 ],
 "metadata": {
  "kernelspec": {
   "display_name": "Python 3",
   "language": "python",
   "name": "python3"
  },
  "language_info": {
   "codemirror_mode": {
    "name": "ipython",
    "version": 3
   },
   "file_extension": ".py",
   "mimetype": "text/x-python",
   "name": "python",
   "nbconvert_exporter": "python",
   "pygments_lexer": "ipython3",
   "version": "3.10.11"
  }
 },
 "nbformat": 4,
 "nbformat_minor": 5
}
