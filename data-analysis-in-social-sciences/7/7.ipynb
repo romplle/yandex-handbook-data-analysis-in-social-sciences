{
 "cells": [
  {
   "cell_type": "markdown",
   "id": "bdda94a1",
   "metadata": {},
   "source": [
    "#### A: С чем работаем?\n",
    "Мы будем работать с сохраненными страницами из Кинопоиска в HTML-формате. Перед началом следует посмотреть, как устроен код нужной нам страницы. Перейдите по ссылке https://www.kinopoisk.ru/film/505898/. Это адрес страницы \"Аватар: Путь воды (2022)\", который понадобится для дальнейших действий. Для выполнения задания вам необходимо использовать BeautifulSoup и requests. Подгрузите страницу kinopoisk.html в контест и выведите название страницы, которую вы собираетесь парсить с помощью \"soup.title\"."
   ]
  },
  {
   "cell_type": "code",
   "execution_count": 105,
   "id": "b85cb556",
   "metadata": {},
   "outputs": [
    {
     "name": "stdout",
     "output_type": "stream",
     "text": [
      "Аватар: Путь воды (2022) — Кинопоиск\n"
     ]
    }
   ],
   "source": [
    "from bs4 import BeautifulSoup as BS\n",
    "\n",
    "with open('kinopoisk.html', 'r', encoding='utf-8') as file: \n",
    "    page = file.read()\n",
    "\n",
    "soup = BS(page, \"html.parser\")\n",
    "\n",
    "print(soup.title.text)"
   ]
  },
  {
   "cell_type": "markdown",
   "id": "9a7c2d6a",
   "metadata": {},
   "source": [
    "#### B: Сколько, сколько?\n",
    "Мы продолжим работать со страницей Кинопоиска в HTML-формате. Перед началом следует посмотреть, как устроен код нужной нам страницы. Перейдите по ссылке https://www.kinopoisk.ru/film/505898/. Это адрес страницы \"Аватар: Путь воды (2022)\", который понадобится для дальнейших действий. Для выполнения задания вам необходимо использовать BeautifulSoup и requests. Подгрузите страницу kinopoisk.html в контест и выведите название фильма, используя \"soup.find\" с указанием нужного класса."
   ]
  },
  {
   "cell_type": "code",
   "execution_count": 89,
   "id": "f09e9173",
   "metadata": {},
   "outputs": [
    {
     "name": "stdout",
     "output_type": "stream",
     "text": [
      "Аватар: Путь воды (2022)\n"
     ]
    }
   ],
   "source": [
    "from bs4 import BeautifulSoup as BS\n",
    "\n",
    "with open('kinopoisk.html', 'r', encoding='utf-8') as file: \n",
    "    page = file.read()\n",
    "\n",
    "soup = BS(page, \"html.parser\")\n",
    "\n",
    "print(soup.find(\"h1\", class_ = \"styles_title__65Zwx styles_root__l9kHe styles_root__5sqsd styles_rootInLight__juoEZ\").text)"
   ]
  },
  {
   "cell_type": "markdown",
   "id": "223d90a6",
   "metadata": {},
   "source": [
    "#### C: Кто режиссер?\n",
    "Мы продолжим работать со страницей Кинопоиска в HTML-формате. Перед началом следует посмотреть, как устроен код нужной нам страницы. Перейдите по ссылке https://www.kinopoisk.ru/film/505898/. Для выполнения задания вам необходимо использовать BeautifulSoup и requests. Подгрузите страницу kinopoisk.html в контест и выведите имя режиссера, используя \"soup.find_all\"."
   ]
  },
  {
   "cell_type": "code",
   "execution_count": 91,
   "id": "06cd5051",
   "metadata": {},
   "outputs": [
    {
     "name": "stdout",
     "output_type": "stream",
     "text": [
      "Джеймс Кэмерон\n"
     ]
    }
   ],
   "source": [
    "from bs4 import BeautifulSoup\n",
    "\n",
    "with open('kinopoisk.html', 'r', encoding='utf-8') as f:\n",
    "    soup = BeautifulSoup(f.read(), 'html.parser')\n",
    "\n",
    "for row in soup.find_all('div', class_='styles_rowDark__ucbcz'):\n",
    "    if 'Режиссер' in row.find('div', class_='styles_titleDark___tfMR').text:\n",
    "        director = row.find('a', class_='styles_linkDark__7m929').text\n",
    "\n",
    "print(director)"
   ]
  },
  {
   "cell_type": "markdown",
   "id": "02c32f64",
   "metadata": {},
   "source": [
    "#### D: Описание\n",
    "Мы продолжим работать со страницей Кинопоиска в HTML-формате. Перейдите по ссылке https://www.kinopoisk.ru/film/505898/. Для выполнения задания вам необходимо использовать BeautifulSoup и requests. Подгрузите страницу kinopoisk.html в контест и выведите описание фильма, используя \"soup.find\"."
   ]
  },
  {
   "cell_type": "code",
   "execution_count": null,
   "id": "cf44f7b8",
   "metadata": {},
   "outputs": [
    {
     "name": "stdout",
     "output_type": "stream",
     "text": [
      "После принятия образа аватара солдат Джейк Салли становится предводителем народа на'ви и берет на себя миссию по защите новых друзей от корыстных бизнесменов с Земли. Теперь ему есть за кого бороться — с Джейком его прекрасная возлюбленная Нейтири. Когда на Пандору возвращаются до зубов вооруженные земляне, Джейк готов дать им отпор.\n"
     ]
    }
   ],
   "source": [
    "from bs4 import BeautifulSoup as BS\n",
    "\n",
    "with open('kinopoisk.html', 'r', encoding='utf-8') as file: \n",
    "    page = file.read()\n",
    "\n",
    "soup = BS(page, \"html.parser\")\n",
    "\n",
    "print(soup.find(\"p\", class_=\"styles_paragraph__wEGPz\").text)"
   ]
  },
  {
   "cell_type": "markdown",
   "id": "12c66f54",
   "metadata": {},
   "source": [
    "#### E: Регулярные выражения\n",
    "Регулярные выражения используются для поиска информации, удаления или изменения ее в фрагментах текстов. В python они реализованы в библиотеке re. Мы будем работать с регулярными выражениями для выявления всех слов, написанных с большой буквы в описании. Мы будем использовать регулярные выражения для их поиска. Для этого воспользуемся функцией \"re.findall\". \"re.findall\" состоит из двух аргументов: первый – шаблон, в котором мы пропишем, что нам необходимы слова, написанные с большой буквы, второй аргумент – текст, в котором мы будем осуществлять поиск слов, написанных с большой буквы.\n",
    "\n",
    "Мы продолжим работать со страницей Кинопоиска в HTML-формате. Воспользуйтесь кодом для парсинга описания фильма из предыдущего задания и выведите слова, написанные с большой буквы, с помощью функции \"re.findall\", с первым аргументом (r'[А-ЯЁ][а-яё]+'). Где '[А-ЯЁ]' означает найти буквы, написанные с большой буквы, '[а-яё]' - найти все буквы, написанные с маленькой буквы, и '+' - означает, что количество букв, написанных с маленькой буквы, может быть любым.\n",
    "\n",
    "Для выполнения задания вам необходимо использовать BeautifulSoup, requests, re. Подгрузите страницу kinopoisk.html."
   ]
  },
  {
   "cell_type": "code",
   "execution_count": null,
   "id": "801f8bac",
   "metadata": {},
   "outputs": [
    {
     "data": {
      "text/plain": [
       "['После',\n",
       " 'Джейк',\n",
       " 'Салли',\n",
       " 'Земли',\n",
       " 'Теперь',\n",
       " 'Джейком',\n",
       " 'Нейтири',\n",
       " 'Когда',\n",
       " 'Пандору',\n",
       " 'Джейк']"
      ]
     },
     "execution_count": 77,
     "metadata": {},
     "output_type": "execute_result"
    }
   ],
   "source": [
    "from bs4 import BeautifulSoup as BS\n",
    "import re\n",
    "\n",
    "with open('kinopoisk.html', 'r', encoding='utf-8') as file: \n",
    "    page = file.read()\n",
    "\n",
    "soup = BS(page, \"html.parser\")\n",
    "\n",
    "text = soup.find(\"p\", class_=\"styles_paragraph__wEGPz\").text\n",
    "\n",
    "print(re.findall(r'[А-ЯЁ][а-яё]+', text))"
   ]
  },
  {
   "cell_type": "markdown",
   "id": "9471de43",
   "metadata": {},
   "source": [
    "#### F: Сколько актеров?\n",
    "Мы продолжим работать со страницей Кинопоиска в HTML-формате. Перейдите по ссылке https://www.kinopoisk.ru/film/505898/. Для выполнения задания вам необходимо использовать BeautifulSoup и requests. Подгрузите страницу kinopoisk.html в контест и выведите количество актёров, которые находятся на странице в классе class_ = \"styles_root__vKDSE styles_rootInLight__EFZzH\". Используйте 'find_all' и 'len'."
   ]
  },
  {
   "cell_type": "code",
   "execution_count": null,
   "id": "ebe8c31e",
   "metadata": {},
   "outputs": [
    {
     "data": {
      "text/plain": [
       "15"
      ]
     },
     "execution_count": 82,
     "metadata": {},
     "output_type": "execute_result"
    }
   ],
   "source": [
    "from bs4 import BeautifulSoup as BS\n",
    "\n",
    "with open('kinopoisk.html', 'r', encoding='utf-8') as file: \n",
    "    page = file.read()\n",
    "\n",
    "soup = BS(page, \"html.parser\")\n",
    "\n",
    "text = soup.find_all(\"li\", class_ = \"styles_root__vKDSE styles_rootInLight__EFZzH\")\n",
    "\n",
    "print(len(text))"
   ]
  },
  {
   "cell_type": "markdown",
   "id": "f6cde7fd",
   "metadata": {},
   "source": [
    "#### G: Список актёров и актёров озвучания\n",
    "Мы продолжим работать со страницей Кинопоиска в HTML-формате. Перейдите по ссылке https://www.kinopoisk.ru/film/505898/. Для выполнения задания вам необходимо использовать BeautifulSoup и requests. Подгрузите страницу kinopoisk.html в контест и выведите список актёров и актёров озвучания. Используйте класс \"styles_root__vKDSE styles_rootInLight__EFZzH\" для поиска."
   ]
  },
  {
   "cell_type": "code",
   "execution_count": 98,
   "id": "de074b1d",
   "metadata": {},
   "outputs": [
    {
     "name": "stdout",
     "output_type": "stream",
     "text": [
      "Сэм Уортингтон\n",
      "Зои Салдана\n",
      "Сигурни Уивер\n",
      "Стивен Лэнг\n",
      "Кейт Уинслет\n",
      "Клифф Кёртис\n",
      "Джоэль Мур\n",
      "Си Си Эйч Паундер\n",
      "Иди Фалько\n",
      "Брендан Коуэлл\n",
      "Александр Ноткин\n",
      "Виктория Павленко\n",
      "Карина Кудекова\n",
      "Денис Анников\n",
      "Ольга Бобрик\n"
     ]
    }
   ],
   "source": [
    "from bs4 import BeautifulSoup as BS\n",
    "\n",
    "with open('kinopoisk.html', 'r', encoding='utf-8') as file: \n",
    "    page = file.read()\n",
    "\n",
    "soup = BS(page, \"html.parser\")\n",
    "\n",
    "for row in soup.find_all(\"li\", class_ = \"styles_root__vKDSE styles_rootInLight__EFZzH\"):\n",
    "    actor = row.find('a', class_ = 'styles_link__Act80').text\n",
    "    print(actor)"
   ]
  },
  {
   "cell_type": "markdown",
   "id": "5624e168",
   "metadata": {},
   "source": [
    "#### H: Сколько аааааааа?\n",
    "В этом задании мы будем работать с атрибутами элементов. Напоминаем, что атрибут — это то, что скрыто от глаз пользователя. Все активные ссылки хранятся в атрибутах элемента. Обычно на сайтах ссылки хранятся в атрибуте href в теге а. Можем достать все элементы с таким тэгом.\n",
    "\n",
    "Мы продолжим работать со страницей Кинопоиска в HTML-формате. Перейдите по ссылке https://www.kinopoisk.ru/film/505898/ для изучения кода страницы. Для выполнения задания вам необходимо использовать BeautifulSoup и requests. Подгрузите страницу kinopoisk.html в контест и выведите количество тегов а, используя \"soup.find_all\" и \"len\"."
   ]
  },
  {
   "cell_type": "code",
   "execution_count": 101,
   "id": "ba93647b",
   "metadata": {},
   "outputs": [
    {
     "name": "stdout",
     "output_type": "stream",
     "text": [
      "99\n"
     ]
    }
   ],
   "source": [
    "from bs4 import BeautifulSoup as BS\n",
    "\n",
    "with open('kinopoisk.html', 'r', encoding='utf-8') as file: \n",
    "    page = file.read()\n",
    "\n",
    "soup = BS(page, \"html.parser\")\n",
    "\n",
    "print(len(soup.find_all(\"a\")))"
   ]
  },
  {
   "cell_type": "markdown",
   "id": "76f0b14e",
   "metadata": {},
   "source": [
    "#### I: Атрибуты\n",
    "В этом задании мы будем работать с атрибутами элементов. Напоминаем, что атрибут — это то, что скрыто от глаз пользователя. Все активные ссылки хранятся в атрибутах элемента. Обычно на сайтах ссылки хранятся в атрибуте href в теге а. Можем достать все элементы с таким тэгом.\n",
    "\n",
    "Мы продолжим работать со страницей Кинопоиска в HTML-формате. Перейдите по ссылке https://www.kinopoisk.ru/film/505898/ для изучения кода страницы. Для выполнения задания вам необходимо использовать BeautifulSoup и requests. Подгрузите страницу kinopoisk.html в контест и извлеките то, что приравнено к атрибуту с помощью команды get. С помощью неё мы извлечем содержимое href. В начале найдите все теги \"a\", используя \"soup.find_all\", а затем извлеките все атрибуты с помощью команды get."
   ]
  },
  {
   "cell_type": "code",
   "execution_count": null,
   "id": "36d70e3e",
   "metadata": {},
   "outputs": [
    {
     "name": "stdout",
     "output_type": "stream",
     "text": [
      "/\n",
      "https://hd.kinopoisk.ru/\n",
      "/lists/categories/movies/1/\n",
      "/lists/categories/movies/3/\n",
      "/afisha/new/\n",
      "/media/\n",
      "/\n",
      "https://hd.kinopoisk.ru/\n",
      "https://www.kinopoisk.ru/special/smarttv_instruction?utm_source=kinopoisk&utm_medium=selfpromo_kp&utm_campaign=button_header\n",
      "/s/\n",
      "https://hd.kinopoisk.ru/?source=kinopoisk_head_button\n",
      "/film/505898/posters/\n",
      "/film/505898/video/184911/\n",
      "/lists/movies/year--2022/?b=films&b=top\n",
      "/lists/movies/country--1/?b=films&b=top\n",
      "/lists/movies/genre--sci-fi/?b=films&b=top\n",
      "/lists/movies/genre--fantasy/?b=films&b=top\n",
      "/lists/movies/genre--action/?b=films&b=top\n",
      "/lists/movies/genre--adventure/?b=films&b=top\n",
      "/film/505898/keywords/\n",
      "/name/27977/\n",
      "/name/27977/\n",
      "/name/79192/\n",
      "/name/79193/\n",
      "/film/505898/cast/who_is/writer/\n",
      "/name/27977/\n",
      "/name/37064/\n",
      "/name/2033201/\n",
      "/film/505898/cast/who_is/producer/\n",
      "/name/408797/\n",
      "/name/1345620/\n",
      "/name/2638091/\n",
      "/name/1986747/\n",
      "/name/2008685/\n",
      "/film/505898/cast/who_is/design/\n",
      "/name/2004040/\n",
      "/name/27977/\n",
      "/name/1813202/\n",
      "/film/505898/cast/who_is/editor/\n",
      "/film/505898/box/\n",
      "/film/505898/box/\n",
      "/film/505898/box/\n",
      "/film/505898/box/\n",
      "/film/505898/dates/\n",
      "/film/505898/dates/\n",
      "/film/505898/rn/PG-13/\n",
      "/film/505898/cast/\n",
      "/name/17733/\n",
      "/name/10661/\n",
      "/name/6915/\n",
      "/name/2807/\n",
      "/name/21709/\n",
      "/name/21040/\n",
      "/name/89156/\n",
      "/name/23654/\n",
      "/name/12194/\n",
      "/name/18505/\n",
      "/film/505898/cast/\n",
      "/film/505898/cast/who_is/voice/\n",
      "/name/1802389/\n",
      "/name/7042340/\n",
      "/name/6759513/\n",
      "/name/6344920/\n",
      "/name/4770440/\n",
      "/film/505898/cast/who_is/voice/\n",
      "/film/505898/awards/\n",
      "/film/505898/awards/\n",
      "/film/505898/awards/\n",
      "/film/505898/awards/\n",
      "/film/505898/awards/\n",
      "/film/505898/dates/\n",
      "/film/505898/stills/\n",
      "/film/505898/video/\n",
      "/film/505898/studio/\n",
      "/film/505898/other/\n",
      "/film/505898/reviews/\n",
      "/film/505898/sites/\n",
      "/film/505898/tracks/\n",
      "/film/505898/subscribe/\n",
      "/film/505898/votes/\n",
      "https://vk.com/kinopoisk\n",
      "https://twitter.com/kinopoiskru\n",
      "https://telegram.me/kinopoisk\n",
      "https://www.youtube.com/user/kinopoisk\n",
      "https://yandex.ru/jobs/vacancies?services=kinopoisk\n",
      "https://yandex.ru/adv/products/display/kinopoiskmedia\n",
      "/docs/usage/\n",
      "https://yandex.ru/support/kinopoisk/index.html\n",
      "/media/rubric/19/\n",
      "https://kinopoisk.userecho.com/\n",
      "https://10267.redirect.appmetrica.yandex.com/mainView?appmetrica_tracking_id=170895231946863928\n",
      "https://10267.redirect.appmetrica.yandex.com/?appmetrica_tracking_id=603240792315703184\n",
      "https://10267.redirect.appmetrica.yandex.com/?appmetrica_tracking_id=1179706852124993595\n",
      "https://www.kinopoisk.ru/\n",
      "https://tv.yandex.ru\n",
      "https://music.yandex.ru\n",
      "https://afisha.yandex.ru\n",
      "https://bookmate.ru\n",
      "https://yandex.ru/all\n"
     ]
    }
   ],
   "source": [
    "from bs4 import BeautifulSoup as BS\n",
    "\n",
    "with open('kinopoisk.html', 'r', encoding='utf-8') as file: \n",
    "    page = file.read()\n",
    "\n",
    "soup = BS(page, \"html.parser\")\n",
    "\n",
    "links = soup.find_all(\"a\")\n",
    "for row in soup.find_all(\"a\"):\n",
    "    film = row.get(\"href\")\n",
    "    print(film) "
   ]
  }
 ],
 "metadata": {
  "kernelspec": {
   "display_name": "Python 3",
   "language": "python",
   "name": "python3"
  },
  "language_info": {
   "codemirror_mode": {
    "name": "ipython",
    "version": 3
   },
   "file_extension": ".py",
   "mimetype": "text/x-python",
   "name": "python",
   "nbconvert_exporter": "python",
   "pygments_lexer": "ipython3",
   "version": "3.10.11"
  }
 },
 "nbformat": 4,
 "nbformat_minor": 5
}
