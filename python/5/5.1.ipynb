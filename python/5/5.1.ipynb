{
 "cells": [
  {
   "cell_type": "markdown",
   "id": "74ec8642",
   "metadata": {},
   "source": [
    "#### A: Классная точка\n",
    "И вот мы снова здесь! Снова задачи повышенной сложности, но у вас позади уже большой опыт!\n",
    "\n",
    "Объектно-ориентированное программирование — популярная парадигма в современном мире. Это вполне очевидно, ведь любой объект реального мира мы теперь можем представить в виде цифрового набора полей и методов. Давайте приступим к проектированию классов.\n",
    "\n",
    "Разработайте класс Point, который при инициализации принимает координаты точки на декартовой плоскости и сохраняет их в поля x и y соответственно.\n",
    "\n",
    "Примечание\n",
    "Ваше решение должно содержать только классы и функции.\n",
    "В решении не должно быть вызовов инициализации требуемых классов."
   ]
  },
  {
   "cell_type": "code",
   "execution_count": 4,
   "id": "026fe247",
   "metadata": {},
   "outputs": [],
   "source": [
    "class Point:\n",
    "\n",
    "    def __init__(self, x, y):\n",
    "        self.x = x\n",
    "        self.y = y"
   ]
  },
  {
   "cell_type": "markdown",
   "id": "43e0cefe",
   "metadata": {},
   "source": [
    "### B: Классная точка 2.0\n",
    "Давайте расширим функционал класса, написанного в прошлой задаче.\n",
    "\n",
    "Реализуйте методы:\n",
    "\n",
    "move, который перемещает точку на заданное расстояние по осям x и y;\n",
    "length, который определяет до переданной точки расстояние, округлённое до сотых.\n",
    "Примечание\n",
    "Ваше решение должно содержать только классы и функции.\n",
    "В решении не должно быть вызовов инициализации требуемых классов."
   ]
  },
  {
   "cell_type": "code",
   "execution_count": 7,
   "id": "a7b5fdee",
   "metadata": {},
   "outputs": [],
   "source": [
    "class Point:\n",
    "\n",
    "    def __init__(self, x, y):\n",
    "        self.x = x\n",
    "        self.y = y\n",
    "\n",
    "    def move(self, x, y):\n",
    "        self.x = self.x + x\n",
    "        self.y = self.y + y\n",
    "    \n",
    "    def length(self, other):\n",
    "        return round(((self.x - other.x) ** 2 + (self.y - other.y) ** 2) ** 0.5, 2)"
   ]
  },
  {
   "cell_type": "markdown",
   "id": "812355ae",
   "metadata": {},
   "source": [
    "### C: Не нажимай красную кнопку!\n",
    "Если написать предупреждение «Не нажимай красную кнопку!», то её сразу безумно хочется нажать.\n",
    "\n",
    "Напишите класс RedButton, который описывает красную кнопку.\n",
    "\n",
    "Класс должен реализовывать методы:\n",
    "\n",
    "click() — эмулирует нажатие кнопки, выводит сообщение \"Тревога!\";\n",
    "count() — возвращает количество раз, которое была нажата кнопка.\n",
    "Примечание\n",
    "Ваше решение должно содержать только классы и функции.\n",
    "В решении не должно быть вызовов инициализации требуемых классов."
   ]
  },
  {
   "cell_type": "code",
   "execution_count": 10,
   "id": "8f1fec7c",
   "metadata": {},
   "outputs": [],
   "source": [
    "class RedButton:\n",
    "\n",
    "    def __init__(self):\n",
    "        self.clicks = 0\n",
    "\n",
    "    def click(self):\n",
    "        print('Тревога!')\n",
    "        self.clicks += 1\n",
    "    \n",
    "    def count(self):\n",
    "        return self.clicks"
   ]
  },
  {
   "cell_type": "markdown",
   "id": "6dbb0b29",
   "metadata": {},
   "source": [
    "### D: Работа не волк\n",
    "Рассмотрим объект «Программист», который задаётся именем, должностью и количеством отработанных часов. Каждая должность имеет собственный оклад (заработную плату за час работы). В нашей импровизированной компании существуют 3 должности:\n",
    "\n",
    "Junior — с окладом 10 тугриков в час;\n",
    "Middle — с окладом 15 тугриков в час;\n",
    "Senior — с окладом 20 тугриков в час по умолчанию и +1 тугрик за каждое новое повышение.\n",
    "Напишите класс Programmer, который инициализируется именем и должностью (отработка у нового работника равна нулю). Класс реализует следующие методы:\n",
    "\n",
    "work(time) — отмечает новую отработку в количестве часов time;\n",
    "rise() — повышает программиста;\n",
    "info() — возвращает строку для бухгалтерии в формате:\n",
    "<имя> <количество отработанных часов>ч. <накопленная зарплата>тгр.\n",
    "Примечание\n",
    "Ваше решение должно содержать только классы и функции.\n",
    "В решении не должно быть вызовов инициализации требуемых классов."
   ]
  },
  {
   "cell_type": "code",
   "execution_count": 12,
   "id": "4be2151d",
   "metadata": {},
   "outputs": [],
   "source": [
    "class Programmer:\n",
    "    statuses = {'Junior': 10, 'Middle': 15, 'Senior': 20}\n",
    "    status_order = ['Junior', 'Middle', 'Senior']\n",
    "\n",
    "    def __init__(self, name, position):\n",
    "        self.name = name\n",
    "        self.position = position\n",
    "        self.hours_worked = 0\n",
    "        self.total_salary = 0\n",
    "        self.salary_hour = self.statuses[position]\n",
    "\n",
    "    def work(self, time):\n",
    "        self.hours_worked += time\n",
    "        self.total_salary += time * self.salary_hour\n",
    "    \n",
    "    def rise(self):\n",
    "        if self.position != 'Senior':\n",
    "            index = self.status_order.index(self.position) + 1\n",
    "            self.position = self.status_order[index]\n",
    "            self.salary_hour = self.statuses[self.position]\n",
    "        else:\n",
    "            self.salary_hour += 1\n",
    "    \n",
    "    def info(self):\n",
    "        return f\"{self.name} {self.hours_worked}ч. {self.total_salary}тгр.\""
   ]
  },
  {
   "cell_type": "markdown",
   "id": "e1141607",
   "metadata": {},
   "source": [
    "### E: Классный прямоугольник\n",
    "Вот уже половина задач. Вы отлично справляетесь!\n",
    "\n",
    "Давайте перейдём к более сложным геометрическим фигурам.\n",
    "\n",
    "Разработайте класс Rectangle.\n",
    "\n",
    "При инициализации класс принимает два кортежа рациональных координат противоположных углов прямоугольника (со сторонами параллельными осям координат).\n",
    "\n",
    "Класс должен реализовывать методы:\n",
    "\n",
    "perimeter — возвращает периметр прямоугольника;\n",
    "area — возвращает площадь прямоугольника.\n",
    "Все результаты вычислений нужно округлить до сотых."
   ]
  },
  {
   "cell_type": "code",
   "execution_count": 14,
   "id": "54e63de9",
   "metadata": {},
   "outputs": [],
   "source": [
    "class Rectangle:\n",
    "\n",
    "    def __init__(self, first, second):\n",
    "        self.x1 = min(first[0], second[0])\n",
    "        self.y1 = min(first[1], second[1])\n",
    "        self.x2 = max(first[0], second[0])\n",
    "        self.y2 = max(first[1], second[1])\n",
    "\n",
    "        self.width = self.x2 - self.x1\n",
    "        self.height = self.y2 - self.y1\n",
    "\n",
    "    def perimeter(self):\n",
    "        perimeter = (self.width + self.height) * 2\n",
    "        return round(perimeter, 2)\n",
    "\n",
    "    def area(self):\n",
    "        area = self.width * self.height\n",
    "        return round(area, 2)"
   ]
  }
 ],
 "metadata": {
  "kernelspec": {
   "display_name": "Python 3",
   "language": "python",
   "name": "python3"
  },
  "language_info": {
   "codemirror_mode": {
    "name": "ipython",
    "version": 3
   },
   "file_extension": ".py",
   "mimetype": "text/x-python",
   "name": "python",
   "nbconvert_exporter": "python",
   "pygments_lexer": "ipython3",
   "version": "3.10.11"
  }
 },
 "nbformat": 4,
 "nbformat_minor": 5
}
