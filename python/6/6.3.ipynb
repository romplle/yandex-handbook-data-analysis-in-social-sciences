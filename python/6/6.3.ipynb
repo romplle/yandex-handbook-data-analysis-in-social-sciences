{
 "cells": [
  {
   "cell_type": "markdown",
   "id": "74ec8642",
   "metadata": {},
   "source": [
    "#### A: Проверка системы\n",
    "Итак! Осталась всего 10 задач в хендбуке. Вы представляете, какой путь вы прошли?\n",
    "\n",
    "В локальной сети тестирующей системы работает сервер 127.0.0.1. Он слушает порт 5000 и отвечает на запросы.\n",
    "\n",
    "Обратитесь к серверу и выведите сообщение, полученное от него.\n",
    "\n",
    "Примечания\n",
    "Во всех задачах данной главы используется протокол http\n",
    "Не забудьте, что ответ сервера является бинарным объектом и его следует декодировать."
   ]
  },
  {
   "cell_type": "code",
   "execution_count": null,
   "id": "026fe247",
   "metadata": {},
   "outputs": [],
   "source": [
    "from requests import get\n",
    "\n",
    "response = get('http://127.0.0.1:5000/')\n",
    "\n",
    "answer = response.text\n",
    "\n",
    "print(answer)"
   ]
  },
  {
   "cell_type": "markdown",
   "id": "43e0cefe",
   "metadata": {},
   "source": [
    "### B: Суммирование ответов\n",
    "Напишите программу, которая суммирует данные, передаваемые с сервера.\n",
    "\n",
    "Если сервер передал число 0, значит, данные закончились и он перезапустит выдачу ответов.\n",
    "\n",
    "Формат ввода\n",
    "Вводится адрес сервера.\n",
    "\n",
    "Формат вывода\n",
    "Одно число — сумма всех данных, полученных с сервера."
   ]
  },
  {
   "cell_type": "code",
   "execution_count": null,
   "id": "e466b773",
   "metadata": {},
   "outputs": [],
   "source": [
    "from requests import get\n",
    "\n",
    "address = input()\n",
    "total = 0\n",
    "while True:\n",
    "    response = get(f'http://{address}/')\n",
    "    number = int(response.text.strip())\n",
    "    \n",
    "    if number == 0:\n",
    "        break\n",
    "        \n",
    "    total += number\n",
    "\n",
    "print(total)"
   ]
  },
  {
   "cell_type": "markdown",
   "id": "812355ae",
   "metadata": {},
   "source": [
    "### C: Суммирование ответов 2\n",
    "Сервер отвечает на запрос JSON списком.\n",
    "Выведите сумму чисел в полученном списке.\n",
    "\n",
    "Формат ввода\n",
    "Вводится адрес сервера\n",
    "\n",
    "Формат вывода\n",
    "Одно число — сумма всех чисел в полученном списке."
   ]
  },
  {
   "cell_type": "code",
   "execution_count": null,
   "id": "8f1fec7c",
   "metadata": {},
   "outputs": [],
   "source": [
    "from requests import get\n",
    "\n",
    "address = input()\n",
    "total = 0\n",
    "response = get(f'http://{address}/')\n",
    "\n",
    "for number in response.json():\n",
    "    if isinstance(number, int):\n",
    "        total += number\n",
    "\n",
    "print(total)"
   ]
  },
  {
   "cell_type": "markdown",
   "id": "6dbb0b29",
   "metadata": {},
   "source": [
    "### D: Конкретное значение\n",
    "Сервер отвечает на запрос JSON объект.\n",
    "Выведите значение, находящееся в объекте по заданному ключу.\n",
    "Если такое значение не обнаружено, то выведите сообщение «No data».\n",
    "\n",
    "Формат ввода\n",
    "В первой строке вводится адрес сервера. Во второй строке — имя ключа.\n",
    "\n",
    "Формат вывода\n",
    "Одна строка — значение, полученное по заданному ключу, или сообщение «No data»."
   ]
  },
  {
   "cell_type": "code",
   "execution_count": null,
   "id": "4be2151d",
   "metadata": {},
   "outputs": [],
   "source": [
    "from requests import get\n",
    "\n",
    "address = input()\n",
    "key = input()\n",
    "data = get(f'http://{address}/').json()\n",
    "\n",
    "print(str(data.get(key, \"No data\")))"
   ]
  },
  {
   "cell_type": "markdown",
   "id": "e1141607",
   "metadata": {},
   "source": [
    "### E: Суммирование ответов 3\n",
    "Сервер отвечает на несколько путей, каждый из которых возвращает свой JSON список.\n",
    "\n",
    "Напишите программу, которая произведёт сбор и суммирование всех данных по заданным путям.\n",
    "\n",
    "Формат ввода\n",
    "Вводится адрес сервера и список анализируемых путей.\n",
    "\n",
    "Формат вывода\n",
    "Одно число — сумма всех чисел из полученных списков."
   ]
  },
  {
   "cell_type": "code",
   "execution_count": null,
   "id": "54e63de9",
   "metadata": {},
   "outputs": [],
   "source": [
    "from requests import get\n",
    "import sys\n",
    "import itertools\n",
    "\n",
    "address, *path = map(str.strip, sys.stdin)\n",
    "\n",
    "results = [get(f'http://{address}{path_}').json() for path_ in path]\n",
    "total = sum(itertools.chain.from_iterable(results))\n",
    "\n",
    "print(total)"
   ]
  }
 ],
 "metadata": {
  "kernelspec": {
   "display_name": "Python 3",
   "language": "python",
   "name": "python3"
  },
  "language_info": {
   "codemirror_mode": {
    "name": "ipython",
    "version": 3
   },
   "file_extension": ".py",
   "mimetype": "text/x-python",
   "name": "python",
   "nbconvert_exporter": "python",
   "pygments_lexer": "ipython3",
   "version": "3.10.11"
  }
 },
 "nbformat": 4,
 "nbformat_minor": 5
}
