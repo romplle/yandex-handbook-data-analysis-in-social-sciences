{
 "cells": [
  {
   "cell_type": "markdown",
   "id": "74ec8642",
   "metadata": {},
   "source": [
    "#### A: Длины всех слов - 2\n",
    "Вы уже решили больше 200 задач! Осталось всего 20 на два параграфа.\n",
    "\n",
    "Напишите функцию length_stats, которая получает текст, а возвращает объект Series со словами в качестве индексов и их длинами в качестве значений.\n",
    "\n",
    "Все слова в тексте предварительно переведите в нижний регистр, избавьтесь от знаков препинания и цифр, а также отсортируйте в лексикографическом порядке.\n",
    "\n",
    "Примечание\n",
    "Ваше решение должно содержать только функции.\n",
    "В решении не должно быть вызовов требуемых функций."
   ]
  },
  {
   "cell_type": "code",
   "execution_count": 113,
   "id": "026fe247",
   "metadata": {},
   "outputs": [],
   "source": [
    "import pandas as pd\n",
    "\n",
    "\n",
    "def remove_punctuation(text):\n",
    "    punctuation_chars = '''!()-[]{};:'\"\\,<>./?@#$%^&*_~'''\n",
    "    for char in punctuation_chars:\n",
    "        text = text.replace(char, '')\n",
    "    return text\n",
    "\n",
    "\n",
    "def length_stats(lst):\n",
    "    x = sorted(set(remove_punctuation(lst.lower()).split()))\n",
    "    return pd.Series(map(len, x), index=x)"
   ]
  },
  {
   "cell_type": "markdown",
   "id": "43e0cefe",
   "metadata": {},
   "source": [
    "### B: Длины всех слов по чётности\n",
    "В этот раз продумайте функцию length_stats, которая получает текст, а возвращает пару объектов Series со словами в качестве индексов и их длинами в качестве значений.\n",
    "\n",
    "Все слова в тексте предварительно переведите в нижний регистр, избавьтесь от знаков препинания и цифр, а также отсортируйте в лексикографическом порядке.\n",
    "\n",
    "Примечание\n",
    "Ваше решение должно содержать только функции.\n",
    "В решении не должно быть вызовов требуемых функций."
   ]
  },
  {
   "cell_type": "code",
   "execution_count": 116,
   "id": "94ee50d5",
   "metadata": {},
   "outputs": [],
   "source": [
    "import pandas as pd\n",
    "\n",
    "\n",
    "def remove_punctuation(text):\n",
    "    punctuation_chars = '''!()-[]{};:'\"\\,<>./?@#$%^&*_~'''\n",
    "    for char in punctuation_chars:\n",
    "        text = text.replace(char, '')\n",
    "    return text\n",
    "\n",
    "\n",
    "def length_stats(lst):\n",
    "    x = sorted(set(remove_punctuation(lst.lower()).split()))\n",
    "    series = pd.Series(map(len, x), index=x)\n",
    "    return series[series % 2 == 1], series[series % 2 == 0]"
   ]
  },
  {
   "cell_type": "markdown",
   "id": "812355ae",
   "metadata": {},
   "source": [
    "### C: Чек - 2\n",
    "В местном магазине решили добавить анализ данных и каждый чек представлять в виде DataFrame.\n",
    "Прайс-лист уже сформирован в виде объекта Series, где индексами являются названия, а значениями — цены.\n",
    "\n",
    "Напишите функцию, cheque, которая принимает прайс-лист и список покупок в виде неопределённого количества именованных параметров (ключ — название товара, значение — количество).\n",
    "\n",
    "Функция должна вернуть объект DataFrame со столбцами:\n",
    "\n",
    "наименование продукта (product);\n",
    "цена за единицу (price);\n",
    "количество (number);\n",
    "итоговая цена (cost).\n",
    "Строки чека должны быть отсортированы по названию продуктов в лексикографическом порядке.\n",
    "\n",
    "Примечание\n",
    "Ваше решение должно содержать только функции.\n",
    "В решении не должно быть вызовов требуемых функций."
   ]
  },
  {
   "cell_type": "code",
   "execution_count": null,
   "id": "8f1fec7c",
   "metadata": {},
   "outputs": [],
   "source": [
    "import pandas as pd\n",
    "\n",
    "\n",
    "def cheque(price_list, **kwargs):\n",
    "    price_list = price_list.sort_index()\n",
    "    df = pd.DataFrame({\n",
    "        \"product\": price_list.index,\n",
    "        \"price\": price_list,\n",
    "        \"number\": pd.Series(kwargs).sort_index(),\n",
    "    })\n",
    "    df['cost'] = df['price'] * df['number']\n",
    "    df = df.dropna()\n",
    "    df = df.sort_values('product')\n",
    "    df.reset_index(inplace=True, drop=True)\n",
    "    df = df.astype({'number': 'int32', 'cost': 'int32'})\n",
    "    return df"
   ]
  },
  {
   "cell_type": "markdown",
   "id": "6dbb0b29",
   "metadata": {},
   "source": [
    "### D: Акция\n",
    "Магазин, для которого вы писали функцию в предыдущей задаче, проводит акцию:\n",
    "\n",
    "При покупке больше двух товаров — скидка 50%\n",
    "\n",
    "мелкий шрифт: скидка распространяется только на товары купленные в количестве более двух штук\n",
    "\n",
    "Напишите функцию discount, принимающую чек из прошлой задачи и возвращающую новый с учётом акции.\n",
    "\n",
    "Примечание\n",
    "Не удаляйте функцию cheque, она потребуется для тестирования.\n",
    "\n",
    "Ваше решение должно содержать только функции.\n",
    "В решении не должно быть вызовов требуемых функций."
   ]
  },
  {
   "cell_type": "code",
   "execution_count": 226,
   "id": "4be2151d",
   "metadata": {},
   "outputs": [],
   "source": [
    "import pandas as pd\n",
    "\n",
    "\n",
    "def cheque(price_list, **kwargs):\n",
    "    price_list = price_list.sort_index()\n",
    "    df = pd.DataFrame({\n",
    "        \"product\": price_list.index,\n",
    "        \"price\": price_list,\n",
    "        \"number\": pd.Series(kwargs).sort_index(),\n",
    "    })\n",
    "    df['cost'] = df['price'] * df['number']\n",
    "    df = df.dropna()\n",
    "    df = df.sort_values('product')\n",
    "    df.reset_index(inplace=True, drop=True)\n",
    "    df = df.astype({'number': 'int32', 'cost': 'int32'})\n",
    "    return df\n",
    "\n",
    "def discount(df):\n",
    "    df_copy = df.copy()\n",
    "    df_copy['cost'] = df.apply(lambda row: row['cost'] / 2 if row['number'] > 2 else row['cost'], axis=1)\n",
    "    return df_copy"
   ]
  },
  {
   "cell_type": "markdown",
   "id": "e1141607",
   "metadata": {},
   "source": [
    "### E: Длинные слова\n",
    "Как насчет чашки чая? Если устали, сделайте перерыв, и возвращайтесь!\n",
    "\n",
    "Фильтрация данных — одна из первостепенных задач их анализа.\n",
    "\n",
    "Напишите функцию get_long, принимающую серию формата первой задачи и фильтрующую её по именованному параметру min_length (по умолчанию 5).\n",
    "\n",
    "Примечание\n",
    "Ваше решение должно содержать только функции.\n",
    "В решении не должно быть вызовов требуемых функций."
   ]
  },
  {
   "cell_type": "code",
   "execution_count": 251,
   "id": "54e63de9",
   "metadata": {},
   "outputs": [],
   "source": [
    "import pandas as pd\n",
    "\n",
    "\n",
    "def remove_punctuation(text):\n",
    "    punctuation_chars = '''!()-[]{};:'\"\\,<>./?@#$%^&*_~'''\n",
    "    for char in punctuation_chars:\n",
    "        text = text.replace(char, '')\n",
    "    return text\n",
    "\n",
    "\n",
    "def length_stats(lst):\n",
    "    x = sorted(set(remove_punctuation(lst.lower()).split()))\n",
    "    return pd.Series(map(len, x), index=x)\n",
    "\n",
    "\n",
    "def get_long(data, min_length=5):\n",
    "    return data[data >= min_length]"
   ]
  }
 ],
 "metadata": {
  "kernelspec": {
   "display_name": "Python 3",
   "language": "python",
   "name": "python3"
  },
  "language_info": {
   "codemirror_mode": {
    "name": "ipython",
    "version": 3
   },
   "file_extension": ".py",
   "mimetype": "text/x-python",
   "name": "python",
   "nbconvert_exporter": "python",
   "pygments_lexer": "ipython3",
   "version": "3.10.11"
  }
 },
 "nbformat": 4,
 "nbformat_minor": 5
}
