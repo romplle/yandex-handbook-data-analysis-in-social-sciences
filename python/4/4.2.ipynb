{
 "cells": [
  {
   "cell_type": "markdown",
   "id": "74ec8642",
   "metadata": {},
   "source": [
    "#### A: Генератор списков\n",
    "Большинство задач этого параграфа направлены на отработку навыков написания функций.\n",
    "\n",
    "Напишите функцию make_list, которая возвращает список заданной длины, заполненный переданным значением.\n",
    "\n",
    "Параметры функции:\n",
    "\n",
    "length — длина списка;\n",
    "value — значение, которым нужно заполнить список (по умолчанию 0).\n",
    "Ваше решение будет использоваться как библиотека.\n",
    "\n",
    "Примечание\n",
    "Ваше решение должно содержать только функции.\n",
    "В решении не должно быть вызовов требуемых функций."
   ]
  },
  {
   "cell_type": "code",
   "execution_count": 2,
   "id": "026fe247",
   "metadata": {},
   "outputs": [
    {
     "data": {
      "text/plain": [
       "[0, 0, 0]"
      ]
     },
     "execution_count": 2,
     "metadata": {},
     "output_type": "execute_result"
    }
   ],
   "source": [
    "def make_list(length, value=0):\n",
    "    return [value] * length\n",
    "\n",
    "make_list(3)"
   ]
  },
  {
   "cell_type": "markdown",
   "id": "43e0cefe",
   "metadata": {},
   "source": [
    "### B: Генератор матриц\n",
    "Напишите функцию make_matrix, которая создаёт, заполняет и возвращает матрицу заданного размера.\n",
    "\n",
    "Параметры функции:\n",
    "\n",
    "size — кортеж (ширина, высота) или одно число (для создания квадратной матрицы);\n",
    "value — значение элементов списка (по-умолчанию 0).\n",
    "Примечание\n",
    "Ваше решение должно содержать только функции.\n",
    "В решении не должно быть вызовов требуемых функций."
   ]
  },
  {
   "cell_type": "code",
   "execution_count": 3,
   "id": "a7b5fdee",
   "metadata": {},
   "outputs": [
    {
     "data": {
      "text/plain": [
       "[[0, 0, 0], [0, 0, 0], [0, 0, 0]]"
      ]
     },
     "execution_count": 3,
     "metadata": {},
     "output_type": "execute_result"
    }
   ],
   "source": [
    "def make_matrix(size, value=0):\n",
    "    if isinstance(size, tuple): \n",
    "        n, m = size \n",
    "    else: \n",
    "        n = m = size \n",
    "\n",
    "    return [[value for x in range(n)] for y in range(m)]\n",
    "\n",
    "make_matrix(3)"
   ]
  },
  {
   "cell_type": "markdown",
   "id": "812355ae",
   "metadata": {},
   "source": [
    "### C: Функциональный нод 2.0\n",
    "Напишите функцию gcd, которая вычисляет наибольший общий делитель последовательности чисел.\n",
    "Параметрами функции выступают натуральные числа в произвольном количестве, но не менее одного.\n",
    "\n",
    "Примечание\n",
    "Ваше решение должно содержать только функции.\n",
    "В решении не должно быть вызовов требуемых функций."
   ]
  },
  {
   "cell_type": "code",
   "execution_count": 42,
   "id": "8f1fec7c",
   "metadata": {},
   "outputs": [
    {
     "data": {
      "text/plain": [
       "3"
      ]
     },
     "execution_count": 42,
     "metadata": {},
     "output_type": "execute_result"
    }
   ],
   "source": [
    "def gcd(*lst):\n",
    "    for i in range(min(lst), 0, -1):\n",
    "        if all(x % i == 0 for x in lst):\n",
    "            return i\n",
    "\n",
    "gcd(3)"
   ]
  },
  {
   "cell_type": "markdown",
   "id": "6dbb0b29",
   "metadata": {},
   "source": [
    "### D: Имя of the month 2.0\n",
    "Разработайте функцию month, которая возвращает название заданного месяца с заглавной буквы. Функция должна принимать номер месяца и дополнительно обозначение языка (по умолчанию \"ru\").\n",
    "\n",
    "Примечание\n",
    "Ваше решение должно содержать только функции.\n",
    "В решении не должно быть вызовов требуемых функций."
   ]
  },
  {
   "cell_type": "code",
   "execution_count": 47,
   "id": "4be2151d",
   "metadata": {},
   "outputs": [
    {
     "data": {
      "text/plain": [
       "'Июль'"
      ]
     },
     "execution_count": 47,
     "metadata": {},
     "output_type": "execute_result"
    }
   ],
   "source": [
    "def month(month_num, lang=\"ru\"):\n",
    "    months_ru = {\n",
    "        1: \"Январь\",\n",
    "        2: \"Февраль\",\n",
    "        3: \"Март\",\n",
    "        4: \"Апрель\",\n",
    "        5: \"Май\",\n",
    "        6: \"Июнь\",\n",
    "        7: \"Июль\",\n",
    "        8: \"Август\",\n",
    "        9: \"Сентябрь\",\n",
    "        10: \"Октябрь\",\n",
    "        11: \"Ноябрь\",\n",
    "        12: \"Декабрь\"\n",
    "    }\n",
    "    \n",
    "    months_en = {\n",
    "        1: \"January\",\n",
    "        2: \"February\",\n",
    "        3: \"March\",\n",
    "        4: \"April\",\n",
    "        5: \"May\",\n",
    "        6: \"June\",\n",
    "        7: \"July\",\n",
    "        8: \"August\",\n",
    "        9: \"September\",\n",
    "        10: \"October\",\n",
    "        11: \"November\",\n",
    "        12: \"December\"\n",
    "    }\n",
    "    \n",
    "    if lang == \"ru\":\n",
    "        return months_ru.get(month_num, \"\")\n",
    "    elif lang == \"en\":\n",
    "        return months_en.get(month_num, \"\")\n",
    "    else:\n",
    "        return \"\"\n",
    "\n",
    "month(7)"
   ]
  },
  {
   "cell_type": "markdown",
   "id": "e1141607",
   "metadata": {},
   "source": [
    "### E: Подготовка данных\n",
    "Напишите функцию to_string, которая формирует из последовательности данных строку.\n",
    "Функция должна принимать:\n",
    "\n",
    "неопределённое количество данных;\n",
    "необязательный параметр sep (по умолчанию пробел);\n",
    "необязательный параметр end (по умолчанию \\n).\n",
    "Примечание\n",
    "Ваше решение должно содержать только функции.\n",
    "В решении не должно быть вызовов требуемых функций."
   ]
  },
  {
   "cell_type": "code",
   "execution_count": 21,
   "id": "54e63de9",
   "metadata": {},
   "outputs": [
    {
     "data": {
      "text/plain": [
       "'7, 3, 1, hello, (1, 2, 3)!'"
      ]
     },
     "execution_count": 21,
     "metadata": {},
     "output_type": "execute_result"
    }
   ],
   "source": [
    "def to_string(*lst, sep=\" \", end=\"\\n\"):\n",
    "    return sep.join([str(x) for x in lst]) + end\n",
    "\n",
    "data = [7, 3, 1, \"hello\", (1, 2, 3)]\n",
    "result = to_string(*data, sep=\", \", end=\"!\")\n",
    "result"
   ]
  }
 ],
 "metadata": {
  "kernelspec": {
   "display_name": "Python 3",
   "language": "python",
   "name": "python3"
  },
  "language_info": {
   "codemirror_mode": {
    "name": "ipython",
    "version": 3
   },
   "file_extension": ".py",
   "mimetype": "text/x-python",
   "name": "python",
   "nbconvert_exporter": "python",
   "pygments_lexer": "ipython3",
   "version": "3.10.11"
  }
 },
 "nbformat": 4,
 "nbformat_minor": 5
}
