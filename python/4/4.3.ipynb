{
 "cells": [
  {
   "cell_type": "markdown",
   "id": "74ec8642",
   "metadata": {},
   "source": [
    "#### A: Рекурсивный сумматор\n",
    "Большинство задач этой главы ориентировано на отработку навыков по разработке рекурсивных функций.\n",
    "\n",
    "Ваше решение будет использоваться как библиотека.\n",
    "\n",
    "Напишите функцию recursive_sum, которая находит сумму всех позиционных аргументов.\n",
    "\n",
    "Примечание\n",
    "Ваше решение должно содержать только функции.\n",
    "В решении не должно быть вызовов требуемых функций, за исключением рекурсивных.\n",
    "Трассировка вызова рекурсивной функции в обработке ответа не учитывается и показана для примера."
   ]
  },
  {
   "cell_type": "code",
   "execution_count": null,
   "id": "97fcdb41",
   "metadata": {},
   "outputs": [
    {
     "data": {
      "text/plain": [
       "6"
      ]
     },
     "execution_count": 1,
     "metadata": {},
     "output_type": "execute_result"
    }
   ],
   "source": [
    "def recursive_sum(*args):\n",
    "    if not args:\n",
    "        return 0\n",
    "    return recursive_sum(*args[:-1]) + args[-1]\n",
    "\n",
    "recursive_sum(1, 2, 3)"
   ]
  },
  {
   "cell_type": "markdown",
   "id": "43e0cefe",
   "metadata": {},
   "source": [
    "### B: Рекурсивный сумматор цифр\n",
    "Рекурсия – отличный способ избавиться от циклов, особенно от while. Давайте вспомним одну из наших старых задач и модернизируем её.\n",
    "\n",
    "Напишите функцию recursive_digit_sum, которая находит сумму всех цифр натурального числа.\n",
    "\n",
    "Примечание\n",
    "Ваше решение должно содержать только функции.\n",
    "В решении не должно быть вызовов требуемых функций, за исключением рекурсивных.\n",
    "Трассировка вызова рекурсивной функции в обработке ответа не учитывается и показана для примера."
   ]
  },
  {
   "cell_type": "code",
   "execution_count": null,
   "id": "de39df9f",
   "metadata": {},
   "outputs": [
    {
     "data": {
      "text/plain": [
       "26"
      ]
     },
     "execution_count": 7,
     "metadata": {},
     "output_type": "execute_result"
    }
   ],
   "source": [
    "def recursive_digit_sum(number):\n",
    "    if not number:\n",
    "        return 0\n",
    "    return recursive_digit_sum(number // 10) + number % 10\n",
    "\n",
    "# def recursive_digit_sum(number):\n",
    "#     number = str(number)\n",
    "#     if not number:\n",
    "#         return 0\n",
    "#     return recursive_digit_sum(number[:-1]) + int(number[-1])\n",
    "\n",
    "recursive_digit_sum(7321346)"
   ]
  },
  {
   "cell_type": "markdown",
   "id": "812355ae",
   "metadata": {},
   "source": [
    "### C: Многочлен N-ой степени\n",
    "Напишите функцию make_equation, которая по заданным коэффициентам строит строку, описывающую валидное с точки зрения Python выражение без использования оператора возведения в степень.\n",
    "\n",
    "Многочлен второй степени с коэффициентами a, b и c, например, можно записать в виде: ((a)∗x + b)∗x + c\n",
    "\n",
    "Примечание\n",
    "Ваше решение должно содержать только функции.\n",
    "В решении не должно быть вызовов требуемых функций, за исключением рекурсивных.\n",
    "Трассировка вызова рекурсивной функции в обработке ответа не учитывается и показана для примера."
   ]
  },
  {
   "cell_type": "code",
   "execution_count": 6,
   "id": "8f1fec7c",
   "metadata": {},
   "outputs": [
    {
     "data": {
      "text/plain": [
       "'(((3) * x + 1) * x + 5) * x + 3'"
      ]
     },
     "execution_count": 6,
     "metadata": {},
     "output_type": "execute_result"
    }
   ],
   "source": [
    "def make_equation(*args):\n",
    "    if len(args) == 1:\n",
    "        return args[0]\n",
    "    return f\"({make_equation(*args[:-1])}) * x + {make_equation(args[-1])}\"      \n",
    "\n",
    "make_equation(3, 1, 5, 3)"
   ]
  },
  {
   "cell_type": "markdown",
   "id": "6dbb0b29",
   "metadata": {},
   "source": [
    "### D: Декор результата\n",
    "Напишите декоратор answer, который преобразует функцию, принимающую неограниченное число позиционных и именованных параметров и возвращает её результат с припиской \"Результат функции: <значение>\".\n",
    "\n",
    "Примечание\n",
    "Ваше решение должно содержать только функции.\n",
    "В решении не должно быть вызовов требуемых функций."
   ]
  },
  {
   "cell_type": "code",
   "execution_count": null,
   "id": "4be2151d",
   "metadata": {},
   "outputs": [
    {
     "name": "stdout",
     "output_type": "stream",
     "text": [
      "Результат функции: 8\n",
      "Результат функции: 16\n"
     ]
    }
   ],
   "source": [
    "def answer(f):\n",
    "    def decorated(*args, **kwargs):\n",
    "        return f\"Результат функции: {f(*args, **kwargs)}\"\n",
    "    return decorated\n",
    "\n",
    "@answer\n",
    "def a_plus_b(a, b):\n",
    "    return a + b\n",
    "\n",
    "\n",
    "print(a_plus_b(3, 5))\n",
    "print(a_plus_b(7, 9))"
   ]
  },
  {
   "cell_type": "markdown",
   "id": "e1141607",
   "metadata": {},
   "source": [
    "### E: Накопление результата\n",
    "В некоторых случаях полезно накапливать результат, а затем получать его единым списком.\n",
    "\n",
    "Реализуйте декоратор result_accumulator, который модернизирует функцию с неопределенным количеством позиционных параметров следующим образом:\n",
    "\n",
    "Добавляет именованный параметр method со значением по умолчанию accumulate;\n",
    "При вызове функции с параметром method равным accumulate, результат сохраняется в очередь (для каждой функции в собственную), а функция ничего не возвращает;\n",
    "При вызове функции с параметром method равным drop, возвращается все накопленные результаты, а очередь сбрасывается.\n",
    "Примечание\n",
    "Ваше решение должно содержать только функции.\n",
    "В решении не должно быть вызовов требуемых функций."
   ]
  },
  {
   "cell_type": "code",
   "execution_count": null,
   "id": "54e63de9",
   "metadata": {},
   "outputs": [
    {
     "name": "stdout",
     "output_type": "stream",
     "text": [
      "None\n",
      "None\n",
      "[8, 16]\n",
      "None\n",
      "[-6]\n"
     ]
    }
   ],
   "source": [
    "def result_accumulator(func):\n",
    "    results = []\n",
    "    \n",
    "    def wrapper(*args, method='accumulate', **kwargs):\n",
    "        result = func(*args, **kwargs)\n",
    "\n",
    "        if method == 'accumulate':\n",
    "            results.append(func(*args))\n",
    "        elif method == 'drop':\n",
    "            results_copy = results.copy()\n",
    "            results.clear()\n",
    "            results_copy.append(result)\n",
    "            return results_copy\n",
    "    \n",
    "    return wrapper\n",
    "\n",
    "@result_accumulator\n",
    "def a_plus_b(a, b):\n",
    "    return a + b\n",
    "\n",
    "\n",
    "print(a_plus_b(3, 5, method=\"accumulate\"))\n",
    "print(a_plus_b(7, 9))\n",
    "print(a_plus_b(-3, 5, method=\"drop\"))\n",
    "print(a_plus_b(1, -7))\n",
    "print(a_plus_b(10, 35, method=\"drop\"))"
   ]
  }
 ],
 "metadata": {
  "kernelspec": {
   "display_name": "Python 3",
   "language": "python",
   "name": "python3"
  },
  "language_info": {
   "codemirror_mode": {
    "name": "ipython",
    "version": 3
   },
   "file_extension": ".py",
   "mimetype": "text/x-python",
   "name": "python",
   "nbconvert_exporter": "python",
   "pygments_lexer": "ipython3",
   "version": "3.10.11"
  }
 },
 "nbformat": 4,
 "nbformat_minor": 5
}
