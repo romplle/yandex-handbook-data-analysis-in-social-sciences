{
 "cells": [
  {
   "cell_type": "markdown",
   "id": "74ec8642",
   "metadata": {},
   "source": [
    "#### A: A+B+...\n",
    "Привет! В этом блоке мы научимся работать с потоками ввода-вывода и с файлами, а ещё — познакомимся с форматом JSON.\n",
    "Все эти инструменты пригодятся, когда данных слишком много, чтобы вводить их вручную, или когда они приходят в программу из внешнего источника.\n",
    "\n",
    "Начнём с простой, но полезной задачи.\n",
    "\n",
    "Напишите программу, которая считывает все введённые строки и находит сумму всех чисел в потоке ввода.\n",
    "\n",
    "Формат ввода\n",
    "Вводятся строки чисел.\n",
    "\n",
    "Формат вывода\n",
    "Одно число — сумма всех чисел в потоке ввода."
   ]
  },
  {
   "cell_type": "code",
   "execution_count": null,
   "id": "026fe247",
   "metadata": {},
   "outputs": [],
   "source": [
    "from sys import stdin\n",
    "\n",
    "total = 0\n",
    "for line in stdin:\n",
    "    numbers = map(float, line.strip().split())\n",
    "    total += sum(numbers)\n",
    "\n",
    "print(int(total) if total.is_integer() else total)"
   ]
  }
 ],
 "metadata": {
  "kernelspec": {
   "display_name": "Python 3",
   "language": "python",
   "name": "python3"
  },
  "language_info": {
   "codemirror_mode": {
    "name": "ipython",
    "version": 3
   },
   "file_extension": ".py",
   "mimetype": "text/x-python",
   "name": "python",
   "nbconvert_exporter": "python",
   "pygments_lexer": "ipython3",
   "version": "3.10.11"
  }
 },
 "nbformat": 4,
 "nbformat_minor": 5
}
