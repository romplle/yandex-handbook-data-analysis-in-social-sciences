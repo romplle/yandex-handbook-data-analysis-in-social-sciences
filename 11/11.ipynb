{
 "cells": [
  {
   "cell_type": "markdown",
   "id": "bdda94a1",
   "metadata": {},
   "source": [
    "#### A: Знай свои данные! Визуализация зависимой переменной (1)\n",
    "В этом задании мы проанализируем данные по выданным кредитам. Очень часто бинарная логистическая регрессия применяется в медицинских данных, чтобы предсказать болезнь или успех какого-либо лекарства или операции. Вторая по популярности сфера - это банковская сфера. Аналитики банковской сферы часто пытаются проанализировать, каким клиентам стоит выдавать кредит, а каким нет. Но сегодня мы посмотрим на это с немного другой перспективы. Мы знаем, что клиенты, приходящие за кредитом, проходят процедуру его одобрения. Банк может одобрить получение кредита, а может не одобрить. Сегодня мы проанализируем, каков шанс человека получить одобрение на кредит в зависимости от разных зависимых переменных. Для этого у нас есть подходящий датафрейм.\n",
    "\n",
    "Как мы выяснили из предыдущих разделов, перед тем как что-то анализировать, стоит узнать, что мы имеем изначально. Здесь без визуализации никуда.\n",
    "\n",
    "Зависимой переменной выступает 'Loan_Status', в которой 0 – кредит не одобрен, а 1 – кредит одобрен. Все переменные находятся в объекте loan.\n",
    "\n",
    "С помощью пакета pandas постройте бар чарт, отражающий распределение бинарной переменной. Напомним, что он строится следующим образом:\n",
    "\n",
    "Объектсданными['Переменная'].value_counts().plot(kind='bar')\n",
    "\n",
    "Что мы можем сказать о выбранной зависимой переменной? Важно! Для решения задачи необходимо использовать пакеты pandas и matplotlib.pyplot. Чтобы мы могли проверить результат, вам нужно сохранить его особенным способом:\n",
    "\n",
    "plt.savefig('result.png')"
   ]
  },
  {
   "cell_type": "code",
   "execution_count": 2,
   "id": "b85cb556",
   "metadata": {},
   "outputs": [
    {
     "data": {
      "image/png": "[encoded data removed]",
      "text/plain": [
       "<Figure size 432x288 with 1 Axes>"
      ]
     },
     "metadata": {
      "needs_background": "light"
     },
     "output_type": "display_data"
    }
   ],
   "source": [
    "import pandas as pd\n",
    "import matplotlib.pyplot as plt\n",
    "\n",
    "df = pd.read_csv('loan.csv')\n",
    "\n",
    "df['Loan_Status'].value_counts().plot(kind='bar')\n",
    "\n",
    "plt.savefig('result.png')"
   ]
  },
  {
   "cell_type": "markdown",
   "id": "9a7c2d6a",
   "metadata": {},
   "source": [
    "#### B: Знай свои данные! Визуализация зависимой переменной (2)\n",
    "Теперь узнаем, каковы распределения категориальных переменных, которые мы будем анализировать.\n",
    "\n",
    "Нам следует проверить следующие гипотезы:\n",
    "\n",
    "1. Мужчинам чаще одобряют кредиты, чем женщинам.\n",
    "2. У заявителей с высшим образованием выше шанс одобрения кредита, чем у тех, кто не имеет высшего образования.\n",
    "\n",
    "Перед построением модели, посмотрим, как они выглядят. Начнем с бинарной переменной брачного статуса.\n",
    "\n",
    "С помощью пакета pandas визуализируйте распределение заявителей по брачному статусу (переменная 'Married'). Все переменные находятся в объекте loan.\n",
    "\n",
    "Важно! Для решения задачи необходимо использовать пакеты pandas и matplotlib.pyplot. Чтобы мы могли проверить результат, вам нужно сохранить его особенным способом:\n",
    "\n",
    "plt.savefig('result.png')"
   ]
  },
  {
   "cell_type": "code",
   "execution_count": 3,
   "id": "f09e9173",
   "metadata": {},
   "outputs": [
    {
     "data": {
      "image/png": "[encoded data removed]",
      "text/plain": [
       "<Figure size 432x288 with 1 Axes>"
      ]
     },
     "metadata": {
      "needs_background": "light"
     },
     "output_type": "display_data"
    }
   ],
   "source": [
    "import pandas as pd\n",
    "import matplotlib.pyplot as plt\n",
    "\n",
    "df = pd.read_csv('loan.csv')\n",
    "\n",
    "df['Married'].value_counts().plot(kind='bar')\n",
    "\n",
    "plt.savefig('result.png')"
   ]
  },
  {
   "cell_type": "markdown",
   "id": "223d90a6",
   "metadata": {},
   "source": [
    "#### C: Знай свои данные! Визуализация зависимой переменной (3)\n",
    "Теперь проверим переменную образования ('Education'). Постройте второй график, где будет видно распределение заявителей по наличию и отсутствию высшего образования (переменная Education).\n",
    "\n",
    "Переменные все ещё записаны в объекте loan.\n",
    "\n",
    "Важно! Для решения задачи необходимо использовать пакеты pandas и matplotlib.pyplot. Чтобы мы могли проверить результат, вам нужно сохранить его особенным способом:\n",
    "\n",
    "plt.savefig('result.png')"
   ]
  },
  {
   "cell_type": "code",
   "execution_count": 4,
   "id": "06cd5051",
   "metadata": {},
   "outputs": [
    {
     "data": {
      "image/png": "[encoded data removed]",
      "text/plain": [
       "<Figure size 432x288 with 1 Axes>"
      ]
     },
     "metadata": {
      "needs_background": "light"
     },
     "output_type": "display_data"
    }
   ],
   "source": [
    "import pandas as pd\n",
    "import matplotlib.pyplot as plt\n",
    "\n",
    "df = pd.read_csv('loan.csv')\n",
    "\n",
    "df['Education'].value_counts().plot(kind='bar')\n",
    "\n",
    "plt.savefig('result.png')"
   ]
  },
  {
   "cell_type": "markdown",
   "id": "02c32f64",
   "metadata": {},
   "source": [
    "#### D: Знай свои данные! Визуализация независимых переменных (4)\n",
    "Важно узнать, зависит ли от размера требуемого займа шанс получения одобрения кредита. Для этого нам придется в будущем включить в модель переменную размера кредита. Проверьте распределение количества запрашиваемых денег (переменная 'LoanAmount' в объекте loan) с помощью гистограммы.\n",
    "\n",
    "В matplotlib это команда plt.hist().\n",
    "\n",
    "Важно! Для решения задачи необходимо использовать пакеты pandas и matplotlib.pyplot. Чтобы мы могли проверить результат, вам нужно сохранить его особенным способом. Вместо plt.show() добавьте в конец файла:\n",
    "\n",
    "plt.savefig('result.png')"
   ]
  },
  {
   "cell_type": "code",
   "execution_count": 5,
   "id": "cf44f7b8",
   "metadata": {},
   "outputs": [
    {
     "data": {
      "image/png": "[encoded data removed]",
      "text/plain": [
       "<Figure size 432x288 with 1 Axes>"
      ]
     },
     "metadata": {
      "needs_background": "light"
     },
     "output_type": "display_data"
    }
   ],
   "source": [
    "import pandas as pd\n",
    "import matplotlib.pyplot as plt\n",
    "\n",
    "df = pd.read_csv('loan.csv')\n",
    "\n",
    "plt.hist(df['LoanAmount'])\n",
    "\n",
    "plt.savefig('result.png')"
   ]
  },
  {
   "cell_type": "markdown",
   "id": "879c093e",
   "metadata": {},
   "source": [
    "#### E: Построение логистической регрессии (1)\n",
    "Построим модель логистической регрессии и включим туда одну переменную. Для начала проверим, как изменяется шанс на одобрение кредита в зависимости от размера запрашиваемой суммы. Зависимая переменная – 'Loan_Status', независимая переменная – 'LoanAmount'.\n",
    "\n",
    "Все переменные находятся в объекте loan.\n",
    "\n",
    "Запишите модель в объект model. Логистическая модель записывается следующим образом: sm.GLM(зависимая переменная, независимая переменная, family=families.Binomial().fit() Команда print(model.summary()) поможет вам познакомится с результатами построения модели.\n",
    "\n",
    "Помните, что в изначальной выдаче нам доступны логарифмированные коэффициенты. С помощью команды exp из пакета numpy посмотрите на отношения шансов. В качестве ответа запишите результаты выдачи этой команды.\n",
    "\n",
    "Формат ввода\n",
    "#ваш код для построения модели#{br} print(np.exp(название вашей модели.params))\n",
    "\n",
    "Формат вывода\n",
    "LoanAmount 0.035189{br} dtype: float64"
   ]
  },
  {
   "cell_type": "code",
   "execution_count": 6,
   "id": "6034f5c9",
   "metadata": {},
   "outputs": [
    {
     "name": "stdout",
     "output_type": "stream",
     "text": [
      "LoanAmount    1.004036\n",
      "dtype: float64\n"
     ]
    }
   ],
   "source": [
    "import pandas as pd\n",
    "import statsmodels.api as sm\n",
    "from statsmodels.genmod import families\n",
    "import numpy as np\n",
    "\n",
    "df = pd.read_csv('loan.csv')\n",
    "\n",
    "model = sm.GLM(\n",
    "    df[\"Loan_Status\"],\n",
    "    df[\"LoanAmount\"],\n",
    "    family=families.Binomial(),\n",
    ").fit()\n",
    "\n",
    "print(np.exp(model.params))"
   ]
  },
  {
   "cell_type": "markdown",
   "id": "12c66f54",
   "metadata": {},
   "source": [
    "#### F: Построение логистической регрессии (2)\n",
    "Отлично! Теперь добавим остальные переменные брачного статуса ('Married') и переменной наличия высшего образования ('Education').\n",
    "\n",
    "Добавьте в лист с зависимыми переменными перечисленные выше показатели. Все переменные находятся в объекте loan.\n",
    "\n",
    "Команда print(model.summary()) поможет вам познакомится с результатами построения модели. Показатель Log_Likelihood у предыдущей модели -309.91. Сравните значения показателей и определите какая модель наилучшая по этому показателю? Что изменилось в переменных при добавлении двух других?\n",
    "\n",
    "Помните, что в изначальной выдаче нам доступны логарифмированные коэффициенты. С помощью команды exp из пакета numpy посмотрите на отношения шансов. В качестве ответа запишите результаты выдачи этой команды.\n",
    "\n",
    "Формат ввода\n",
    "#ваш код для построения модели#{br} print(np.exp(название вашей модели.params))\n",
    "\n",
    "Формат вывода\n",
    "LoanAmount 0.035189{br} Married 1.421331{br} Education 0.023138{br} dtype: float64"
   ]
  },
  {
   "cell_type": "code",
   "execution_count": 7,
   "id": "801f8bac",
   "metadata": {},
   "outputs": [
    {
     "name": "stdout",
     "output_type": "stream",
     "text": [
      "LoanAmount    1.001195\n",
      "Married       2.226661\n",
      "Education     0.865475\n",
      "dtype: float64\n"
     ]
    }
   ],
   "source": [
    "import pandas as pd\n",
    "import statsmodels.api as sm\n",
    "from statsmodels.genmod import families\n",
    "import numpy as np\n",
    "\n",
    "df = pd.read_csv('loan.csv')\n",
    "\n",
    "model = sm.GLM(\n",
    "    df[\"Loan_Status\"],\n",
    "    df[[\"LoanAmount\", 'Married', 'Education']],\n",
    "    family=families.Binomial(),\n",
    ").fit()\n",
    "\n",
    "print(np.exp(model.params))"
   ]
  },
  {
   "cell_type": "markdown",
   "id": "f6cde7fd",
   "metadata": {},
   "source": [
    "#### G: Диагностика логистической модели\n",
    "Настало время проверить, хорошая ли наша модель. Начнем с проверки мультиколлинеарности. Действительно ли все наши наблюдения независимы? Для того, чтобы это проверить, нам понадобится показатель VIF.\n",
    "\n",
    "Если какая-либо из переменных показывает VIF больше 4, то нам следует задуматься об исключении какой-либо из них.\n",
    "\n",
    "Создайте обхект X. Запишите в него все переменные из данных loan.\n",
    "\n",
    "Показатель VIF рассчитывается с помощью следующих последовательностей:\n",
    "\n",
    "Создается пустой датафрейм. `vif_data = pd.DataFrame()`\n",
    "\n",
    "Внутри него создаются колонки с переменными, выделенными в объекте `X`. `vif_data[\"feature\"] = X.columns`\n",
    "\n",
    "Рассчитывается показатель `VIF` с помощью следующей функции: `vif_data[\"VIF\"] = [variance_inflation_factor(X.values, i) for i in range(len(X.columns))]`\n",
    "\n",
    "Выводится таблица со значениями `VIF` при помощи команды `print`."
   ]
  },
  {
   "cell_type": "code",
   "execution_count": 8,
   "id": "de074b1d",
   "metadata": {},
   "outputs": [
    {
     "name": "stdout",
     "output_type": "stream",
     "text": [
      "      feature       VIF\n",
      "0  LoanAmount  2.183028\n",
      "1     Married  2.294270\n",
      "2   Education  1.181951\n"
     ]
    }
   ],
   "source": [
    "import pandas as pd\n",
    "from statsmodels.stats.outliers_influence import variance_inflation_factor\n",
    "\n",
    "df = pd.read_csv('loan.csv')\n",
    "\n",
    "X = df[['LoanAmount', 'Married', 'Education']]\n",
    "\n",
    "vif_data = pd.DataFrame()\n",
    "vif_data[\"feature\"] = X.columns\n",
    "\n",
    "vif_data[\"VIF\"] = [variance_inflation_factor(X.values, i) for i in range(len(X.columns))]\n",
    "  \n",
    "print(vif_data)"
   ]
  },
  {
   "cell_type": "markdown",
   "id": "5624e168",
   "metadata": {},
   "source": [
    "#### H: Проверка отклоняющихся значений\n",
    "Теперь проверим, есть ли в нашей модели наблюдения, которые резко скашивают результаты нашей модели. Для этого нужно построить график влиятельных отклонений.\n",
    "\n",
    "Из объекта, в котором записана модель, достаньте влиятельные значения с помощью функции get_influence. Запишите их в объект infl.\n",
    "\n",
    "Создайте график дистанции Кука в модели. Запишите в объект fig следующее: Примените plot_index(y_var=\"cooks\", threshold=2 * infl.cooks_distance[0].mean()) к объекту infl. Выведите график с помощью следующей команды с параметром pad=1.0: fig.tight_layout(pad=1.0)"
   ]
  },
  {
   "cell_type": "code",
   "execution_count": 9,
   "id": "ba93647b",
   "metadata": {},
   "outputs": [
    {
     "data": {
      "image/png": "[encoded data removed]",
      "text/plain": [
       "<Figure size 432x288 with 1 Axes>"
      ]
     },
     "metadata": {
      "needs_background": "light"
     },
     "output_type": "display_data"
    }
   ],
   "source": [
    "import pandas as pd\n",
    "import statsmodels.api as sm\n",
    "from statsmodels.genmod import families\n",
    "import matplotlib.pyplot as plt\n",
    "\n",
    "df = pd.read_csv('loan.csv')\n",
    "\n",
    "model = sm.GLM(\n",
    "    df[\"Loan_Status\"],\n",
    "    df[[\"LoanAmount\", 'Married', 'Education']],\n",
    "    family=families.Binomial(),\n",
    ").fit()\n",
    "\n",
    "infl = model.get_influence()\n",
    "fig = infl.plot_index(y_var=\"cooks\", threshold=2 * infl.cooks_distance[0].mean())\n",
    "fig.tight_layout(pad=1.0)\n",
    "\n",
    "plt.savefig('result.png')"
   ]
  },
  {
   "cell_type": "markdown",
   "id": "f0f38e9a",
   "metadata": {},
   "source": [
    "#### I: ROC кривая. Точность модели\n",
    "Но рано делать выводы. Теперь посмотрим, имеет ли наша модель предсказательную силу и хорошо ли она классифицирует данные.\n",
    "\n",
    "Достаньте предсказанные значения из модели с помощью model.predict, запишите в объект prob_pred. Посмотрите, как классифицируются данные по предсказанным значениям с помощью команды roc_auc_score. Первым аргументом указывается зависимая переменная из датасета loan, а вторым – предсказанные значения.\n",
    "\n",
    "Определите показатели верноположительных и верноотрицательных значений, предсказанных моделью. Запишите их в строке объектов fpr, tpr, threshold. Приравняйте к ним функцию roc_curve(pd.to_numeric(зависимая переменная),предсказанные вероятности).\n",
    "\n",
    "Далее запустите код matplotlib с построением графика.\n",
    "\n",
    "Важно! Чтобы мы могли проверить результат, вам нужно сохранить его особенным способом. Вместо plt.show() добавьте в конец файла:\n",
    "\n",
    "plt.savefig('result.png')"
   ]
  },
  {
   "cell_type": "code",
   "execution_count": 23,
   "id": "438e1d92",
   "metadata": {},
   "outputs": [
    {
     "data": {
      "image/png": "[encoded data removed]",
      "text/plain": [
       "<Figure size 432x288 with 1 Axes>"
      ]
     },
     "metadata": {
      "needs_background": "light"
     },
     "output_type": "display_data"
    }
   ],
   "source": [
    "import pandas as pd\n",
    "import statsmodels.api as sm\n",
    "from statsmodels.genmod import families\n",
    "import matplotlib.pyplot as plt\n",
    "from sklearn.metrics import roc_auc_score, roc_curve\n",
    "\n",
    "df = pd.read_csv('loan.csv')\n",
    "\n",
    "X = df[['LoanAmount', 'Married', 'Education']]\n",
    "y = df['Loan_Status']\n",
    "\n",
    "model = sm.GLM(y, X, family=families.Binomial()).fit()\n",
    "\n",
    "prob_pred = model.predict(X)\n",
    "\n",
    "auc = roc_auc_score(y, prob_pred)\n",
    "\n",
    "fpr, tpr, threshold = roc_curve(pd.to_numeric(y), prob_pred)\n",
    "\n",
    "plt.plot(fpr, tpr)\n",
    "plt.savefig('result.png')"
   ]
  }
 ],
 "metadata": {
  "kernelspec": {
   "display_name": "Python 3",
   "language": "python",
   "name": "python3"
  },
  "language_info": {
   "codemirror_mode": {
    "name": "ipython",
    "version": 3
   },
   "file_extension": ".py",
   "mimetype": "text/x-python",
   "name": "python",
   "nbconvert_exporter": "python",
   "pygments_lexer": "ipython3",
   "version": "3.10.11"
  }
 },
 "nbformat": 4,
 "nbformat_minor": 5
}
