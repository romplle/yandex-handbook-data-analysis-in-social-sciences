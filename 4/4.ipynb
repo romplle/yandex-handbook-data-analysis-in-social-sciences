{
 "cells": [
  {
   "cell_type": "markdown",
   "id": "dca8f510",
   "metadata": {},
   "source": [
    "#### A: Ознакомление с датасетом\n",
    "В этой и последующих задачах мы будем работать с датасетом влияния COVID-19 на образование, психическое здоровье и распорядок дня учащихся. Ознакомиться с полной версией датасета можно по ссылке: https://www.kaggle.com/datasets/kunal28chaturvedi/covid19-and-its-impact-on-students.\n",
    "\n",
    "Датасет доступен под названием 'COVID-19 SSR.csv'\n",
    "\n",
    "В датасете содержатся такие переменные как время на занятия, самостоятельное обучение, просмотр страниц в социальных сетях в день, а также соц-демографические характеристики учащихся (возраст, регион проживания) и другие.\n",
    "\n",
    "Вам необходимо вывести наиболее частый тип переменных встречаемый в датасете."
   ]
  },
  {
   "cell_type": "code",
   "execution_count": 2,
   "id": "2d8aacc9",
   "metadata": {},
   "outputs": [
    {
     "name": "stdout",
     "output_type": "stream",
     "text": [
      "object\n"
     ]
    }
   ],
   "source": [
    "import pandas as pd\n",
    "\n",
    "df = pd.read_csv('COVID-19 SSR.csv')\n",
    "\n",
    "types = df.dtypes\n",
    "result = types.value_counts().idxmax()\n",
    "print(result)"
   ]
  },
  {
   "cell_type": "markdown",
   "id": "c5ba61a4",
   "metadata": {},
   "source": [
    "#### B: Изменяем капслок\n",
    "Не всегда данные в одной колонке имеют одинаковое оформление. Например, одно значение написано буквами верхнего регистра, а другое - нижнего. Для приведения значений в категориальных переменных к одному виду существует набор функций.\n",
    "\n",
    "title() - преобразовывает слова в формате title, где первое слово в строке начинается с символа верхнего регистра, а остальные приводятся к символам нижнего регистра (Например, \"привет, студенты!\" преобразуется в \"Привет, студенты!\").\n",
    "\n",
    "В датасете'COVID-19 SSR.csv' в переменной 'Rating of Online Class experience' все значения записаны символами верхнего регистра (Например, \"GOOD\").\n",
    "\n",
    "Вам необходимо привести значения переменной 'Rating of Online Class experience' к значению \"GOOD\" с помощью функции title(). Например, df('Название переменной').str.title().\n",
    "\n",
    "В выдаче выведите пять первых значения переменной 'Rating of Online Class experience'.\n",
    "\n",
    "Датасет доступен под названием 'COVID-19 SSR.csv'\n",
    "\n",
    "Формат вывода\n",
    "0 Good{br} 1 Very Poor{br} 2 Good{br} 3 Very Poor{br} 4 Excellent{br} Name: Rating of Online Class experience, dtype: object"
   ]
  },
  {
   "cell_type": "code",
   "execution_count": 3,
   "id": "01901c24",
   "metadata": {},
   "outputs": [
    {
     "name": "stdout",
     "output_type": "stream",
     "text": [
      "0         Good\n",
      "1    Excellent\n",
      "2    Very Poor\n",
      "3    Very Poor\n",
      "4         Good\n",
      "Name: Rating of Online Class experience, dtype: object\n"
     ]
    }
   ],
   "source": [
    "import pandas as pd\n",
    "\n",
    "df = pd.read_csv('COVID-19 SSR.csv')\n",
    "\n",
    "df['Rating of Online Class experience'] = df['Rating of Online Class experience'].str.title()\n",
    "result = df['Rating of Online Class experience'].head(5)\n",
    "\n",
    "print(result)"
   ]
  },
  {
   "cell_type": "markdown",
   "id": "e2a3b85b",
   "metadata": {},
   "source": [
    "#### C: Сколько спят учащиеся?\n",
    "В нашем датасете есть переменная, указывающая на среднее количество сна в день ['Time spent on sleep']. Для здорового человека нормально спать 7-8 часов. Но учащиеся могут спать больше или меньше необходимого времени сна. То есть они могут спать например меньше 7 (6.9 часов) и больше 8 часов. Оптимальным количеством сна является 7-8 часов сна.\n",
    "\n",
    "Вам необходимо вывести количество учащихся, которые спят больше или меньше оптимального времени для сна. Одним из способом решения этой переменной будут следующие шаги:\n",
    "\n",
    "Воспользоваться циклом для создания новой переменной (название которой может быть 'Sleep') по переменной['Time spent on sleep'] , где необходимо прописать следующие условия. Если ['Time spent on sleep'] меньше 9, но при этом больше 6.9, то это нормальное количество сна ('normal'), в другом случае значение переменной будет 'not normal'.\n",
    "Сделать фильтр по новой переменной, таким образом, чтобы мы оставили строки со значением сна'not normal'.\n",
    "Вывести количество строк отфильтрованного датасета (например, с помощью функции 'len()').\n",
    "Датасет доступен под названием 'COVID-19 Survey Student Responses.csv'\n",
    "\n",
    "Формат вывода\n",
    "437"
   ]
  },
  {
   "cell_type": "code",
   "execution_count": 4,
   "id": "2b9f8e8e",
   "metadata": {},
   "outputs": [
    {
     "name": "stdout",
     "output_type": "stream",
     "text": [
      "529\n"
     ]
    }
   ],
   "source": [
    "import pandas as pd\n",
    "\n",
    "df = pd.read_csv('COVID-19 SSR.csv')\n",
    "\n",
    "df = df.assign(Sleep=['normal' if 6.9 < i < 9 else 'not normal' for i in df['Time spent on sleep']])\n",
    "df = df[df['Sleep'] == 'not normal']\n",
    "\n",
    "print(len(df))"
   ]
  },
  {
   "cell_type": "markdown",
   "id": "28a9f8f6",
   "metadata": {},
   "source": [
    "#### D: Часы в день\n",
    "Мы обратим внимание на переменную 'Time spent on TV', которая содержит в себе не только числовые показатели, но и категориальные значения (object), такие как \"N\", \"n\", \"No tv\". Для анализа переменной необходимо изменить другие значения помимо числовых на \"0\". Далее после обработки датасета выведите тип переменной.\n",
    "\n",
    "Датасет доступен под названием 'COVID-19 Survey Student Responses.csv'"
   ]
  },
  {
   "cell_type": "code",
   "execution_count": 5,
   "id": "91e0b7f3",
   "metadata": {},
   "outputs": [
    {
     "name": "stdout",
     "output_type": "stream",
     "text": [
      "float64\n"
     ]
    }
   ],
   "source": [
    "import pandas as pd\n",
    "\n",
    "df = pd.read_csv('COVID-19 SSR.csv')\n",
    "\n",
    "df['Time spent on TV'] = pd.to_numeric(df['Time spent on TV'], errors='coerce').fillna(0)\n",
    "\n",
    "print(df['Time spent on TV'].dtype)"
   ]
  },
  {
   "cell_type": "markdown",
   "id": "ed5b505c",
   "metadata": {},
   "source": [
    "#### E: Взаимосвязано ли количество сна и время, проведенное в социальных сетях?\n",
    "Для ответа на данный вопрос мы будем работать с двумя переменными 'Time spent on sleep' и 'Time spent on social media'. Мы хотим выяснить связано ли недосыпание учащихся с временем, проведенным ими в социальных сетях.\n",
    "\n",
    "В начале перекодируйте переменные на бинарные категории: 'normal' и 'not normal'. Нормальное количество сна для людей – от 7 до 9 часов. Нормальное время, проведенное в сети – это меньше 2 часов в день. Перекодируйте переменные, а затем воспользуйтесь результатом Хи-теста и выведите результат Хи-квадрата.\n",
    "\n",
    "Одним из способом решения задачи являются следующие шаги:\n",
    "\n",
    "Воспользоваться циклом для создания новой переменной (название которой может быть 'Sleep') по переменной['Time spent on sleep'] , где необходимо прописать следующие условия. Если ['Time spent on sleep'] меньше 9, но при этом больше 6.9, то это нормальное количество сна ('normal'), в другом случае значение переменной будет 'not normal'.\n",
    "Воспользоваться циклом для создания еще одной новой переменной (название которой может быть 'Media') по переменной['Time spent on social media'] , где необходимо прописать следующие условия. Если ['Time spent on social media'] меньше 2, то это нормальное количество времяпровождения в социальных сетей ('normal'), в другом случае значение переменной будет 'not normal'.\n",
    "Воспользуйтесь функцией 'pd.crosstab' для подготовки данных к выдачи Хи-квадрата. crosstab() — метод, который помогает создать кросс-таблицу, показывает распределение данных по двум переменным. То есть вам необходимо применить метод  crosstab для двух, созданных вами, переменных (в качестве примера - это переменные 'Sleep' и 'Media').\n",
    "Воспользуйтесь функцией 'chi2_contingency' из пакета 'stats' и выведите значение Хи-квадрата.\n",
    "Датасет доступен под названием 'COVID-19 Survey Student Responses.csv'\n",
    "\n",
    "Формат вывода\n",
    "3.0194840313249611"
   ]
  },
  {
   "cell_type": "code",
   "execution_count": 6,
   "id": "f7d9ddee",
   "metadata": {},
   "outputs": [
    {
     "name": "stdout",
     "output_type": "stream",
     "text": [
      "4.0632496096156885\n"
     ]
    }
   ],
   "source": [
    "import pandas as pd\n",
    "from scipy.stats import chi2_contingency\n",
    "\n",
    "df = pd.read_csv('COVID-19 SSR.csv')\n",
    "\n",
    "df = df.assign(Sleep=['normal' if i >= 7 else 'not normal' for i in df['Time spent on sleep']])\n",
    "df = df.assign(Media=['normal' if i < 2 else 'not normal' for i in df['Time spent on social media']])\n",
    "\n",
    "crosstab = pd.crosstab(index=df['Sleep'], columns=df['Media'])\n",
    "\n",
    "chi2, p_value, dof, expected = chi2_contingency(crosstab)\n",
    "\n",
    "print(chi2)"
   ]
  },
  {
   "cell_type": "markdown",
   "id": "da3336df",
   "metadata": {},
   "source": [
    "#### F: Взаимосвязано ли количество сна и время, проведенное на в социальных сетях? 2.0\n",
    "Мы хотим выяснить, связано ли недосыпание учащихся с временем, проведенным ими в социальных сетях.\n",
    "\n",
    "В начале перекодируйте переменные на бинарные категории: 'normal' и 'not normal'. Нормальное количество сна для людей – больше 7 часов. Нормальное время, проведенное в сети –это меньше 2 часов в день. Перекодируйте переменные, а затем воспользуйтесь результатом Хи-теста и выведите результат Хи-квадрата.\n",
    "\n",
    "Напишите аналогичный код из предыдущей задачи. (Рассчитайте Хи-квадрат для переменных 'Time spent on sleep' и 'Time spent on social media') и выведите результат p-value.\n",
    "\n",
    "Датасет доступен под названием 'COVID-19 Survey Student Responses.csv'"
   ]
  },
  {
   "cell_type": "code",
   "execution_count": 7,
   "id": "b8410ab8",
   "metadata": {},
   "outputs": [
    {
     "name": "stdout",
     "output_type": "stream",
     "text": [
      "0.04382608418680551\n"
     ]
    }
   ],
   "source": [
    "import pandas as pd\n",
    "from scipy.stats import chi2_contingency\n",
    "\n",
    "df = pd.read_csv('COVID-19 SSR.csv')\n",
    "\n",
    "df = df.assign(Sleep=['normal' if i >= 7 else 'not normal' for i in df['Time spent on sleep']])\n",
    "df = df.assign(Media=['normal' if i < 2 else 'not normal' for i in df['Time spent on social media']])\n",
    "\n",
    "crosstab = pd.crosstab(index=df['Sleep'], columns=df['Media'])\n",
    "\n",
    "chi2, p_value, dof, expected = chi2_contingency(crosstab)\n",
    "\n",
    "print(p_value)"
   ]
  },
  {
   "cell_type": "markdown",
   "id": "af669255",
   "metadata": {},
   "source": [
    "#### G: Замена значений переменных с одних на другие\n",
    "Для удобной работы категориальные переменные перекодируют в числовые. В этой задаче мы будем работать с бинарной переменной 'Health issue during lockdown'.\n",
    "\n",
    "Перекодируйте значения переменной \"YES\" и \"NO\", на \"1\" и \"0\", соответственно.\n",
    "\n",
    "В выдаче выведите количество значений по данной переменной.\n",
    "\n",
    "Датасет доступен под названием 'COVID-19 Survey Student Responses.csv'"
   ]
  },
  {
   "cell_type": "code",
   "execution_count": 8,
   "id": "a7051fe4",
   "metadata": {},
   "outputs": [
    {
     "name": "stdout",
     "output_type": "stream",
     "text": [
      "Health issue during lockdown\n",
      "0    1021\n",
      "1     161\n",
      "Name: count, dtype: int64\n"
     ]
    },
    {
     "name": "stderr",
     "output_type": "stream",
     "text": [
      "C:\\Users\\pc\\AppData\\Local\\Temp/ipykernel_5212/4242982757.py:5: FutureWarning: Downcasting behavior in `replace` is deprecated and will be removed in a future version. To retain the old behavior, explicitly call `result.infer_objects(copy=False)`. To opt-in to the future behavior, set `pd.set_option('future.no_silent_downcasting', True)`\n",
      "  df['Health issue during lockdown'] = df['Health issue during lockdown'].replace([\"YES\", \"NO\"], [1, 0])\n"
     ]
    }
   ],
   "source": [
    "import pandas as pd\n",
    "\n",
    "df = pd.read_csv('COVID-19 SSR.csv')\n",
    "\n",
    "df['Health issue during lockdown'] = df['Health issue during lockdown'].replace([\"YES\", \"NO\"], [1, 0])\n",
    "\n",
    "print(df['Health issue during lockdown'].value_counts())"
   ]
  },
  {
   "cell_type": "markdown",
   "id": "1163dbc6",
   "metadata": {},
   "source": [
    "#### H: Сколько читают учащиеся, справляясь со стрессом?\n",
    "Чтобы понять находятся ли опеределенное слово, символ или другой показатель в значениях переменных, можно воспользоваться функцией contains(). Подробно об этой функции можно прочесть по ссылке https://pandas.pydata.org/pandas-docs/stable/reference/api/pandas.Series.str.contains.html. В этой задаче вы будете работать с переменной 'Stress busters'. Выведите количество учащихся, которые используют книги в качестве профилактики борьбы со стрессом (встречаемость 'book' в значениях переменной).\n",
    "\n",
    "Датасет доступен под названием 'COVID-19 Survey Student Responses.csv'"
   ]
  },
  {
   "cell_type": "code",
   "execution_count": 9,
   "id": "06f9fa62",
   "metadata": {},
   "outputs": [
    {
     "name": "stdout",
     "output_type": "stream",
     "text": [
      "85\n"
     ]
    }
   ],
   "source": [
    "import pandas as pd\n",
    "\n",
    "df = pd.read_csv('COVID-19 SSR.csv')\n",
    "\n",
    "result = df['Stress busters'].str.contains('book')\n",
    "\n",
    "print(result.sum())"
   ]
  },
  {
   "cell_type": "markdown",
   "id": "1a745886",
   "metadata": {},
   "source": [
    "#### I: Самая популярная платформа среди социльных сетей\n",
    "Определите наиболее популярную медиаплатформу в социальных сетях. (переменная 'Prefered social media platform')\n",
    "\n",
    "Отфильтруйте пользователей, которые используют эту платформу для социальной сети и вычислите, в среднем сколько времени в день проводят в социальных медиа (переменная 'Time spent on social media') пользователи, которые предпочитают популярную социальную платформу. Результат округлите до сотых.\n",
    "\n",
    "Датасет доступен под названием 'COVID-19 Survey Student Responses.csv'"
   ]
  },
  {
   "cell_type": "code",
   "execution_count": 27,
   "id": "ba5b9e8a",
   "metadata": {},
   "outputs": [
    {
     "name": "stdout",
     "output_type": "stream",
     "text": [
      "2.91\n"
     ]
    }
   ],
   "source": [
    "import pandas as pd\n",
    "\n",
    "df = pd.read_csv('COVID-19 SSR.csv')\n",
    "\n",
    "platform = df['Prefered social media platform'].mode()[0]\n",
    "\n",
    "filtered_df = df[df['Prefered social media platform'] == platform]\n",
    "\n",
    "result = filtered_df['Time spent on social media'].mean()\n",
    "\n",
    "print(round(result, 2))"
   ]
  },
  {
   "cell_type": "markdown",
   "id": "72596021",
   "metadata": {},
   "source": [
    "#### J: Кто проводит больше времени в социальных медиа?\n",
    "В предыдущей задаче мы выяснили, что пользователи, которые предпочитают Инстаграм, используют социальные медиа в среднем около 2.91 часа.\n",
    "\n",
    "Чтобы понять насколько пользователи Инстаграма отличаются от пользователей, отдающих предпочтения другой социальной сети, необходимо сделать подобную аналитику.\n",
    "\n",
    "Определите платформу, в которой пользователи проводят больше всего времени в среднем.\n",
    "\n",
    "Результат выведите через пробел. В начале укажите название предпочитаемой социальной сети, а затем среднее количество времени, затрачиваемое на пользование социальными сетями через пробел. Результат округлите до сотых.\n",
    "\n",
    "Датасет доступен под названием 'COVID-19 Survey Student Responses.csv'\n",
    "\n",
    "Формат вывода\n",
    "YouTube 18.0"
   ]
  },
  {
   "cell_type": "code",
   "execution_count": 46,
   "id": "db070c81",
   "metadata": {},
   "outputs": [
    {
     "name": "stdout",
     "output_type": "stream",
     "text": [
      "Talklife 10.0\n"
     ]
    }
   ],
   "source": [
    "import pandas as pd\n",
    "\n",
    "df = pd.read_csv('COVID-19 SSR.csv')\n",
    "\n",
    "platform_stats = df.groupby('Prefered social media platform')['Time spent on social media'].mean().round(2)\n",
    "\n",
    "max_platform = platform_stats.idxmax()\n",
    "max_time = platform_stats.max()\n",
    "\n",
    "print(max_platform, max_time)"
   ]
  }
 ],
 "metadata": {
  "kernelspec": {
   "display_name": "Python 3",
   "language": "python",
   "name": "python3"
  },
  "language_info": {
   "codemirror_mode": {
    "name": "ipython",
    "version": 3
   },
   "file_extension": ".py",
   "mimetype": "text/x-python",
   "name": "python",
   "nbconvert_exporter": "python",
   "pygments_lexer": "ipython3",
   "version": "3.10.11"
  }
 },
 "nbformat": 4,
 "nbformat_minor": 5
}
