{
 "cells": [
  {
   "cell_type": "markdown",
   "id": "bdda94a1",
   "metadata": {},
   "source": [
    "#### A: Нам и точка не помеха\n",
    "Вам нужно удалить знаки препинания из корпуса стихотворений русских поэтов. В результате выведите первое стихотворение без знаков препинания. CSV-файл доступен под названием 'russian_poetry.csv’. Для удаления знаков препинания воспользуйтесь регулярными выражениями.\n",
    "\n",
    "Формат вывода\n",
    "Текст без знаков препинания"
   ]
  },
  {
   "cell_type": "code",
   "execution_count": 7,
   "id": "b85cb556",
   "metadata": {},
   "outputs": [
    {
     "name": "stdout",
     "output_type": "stream",
     "text": [
      "Забывши волнения жизни мятежной\n",
      "Один жил в пустыне рыбак молодой\n",
      "Однажды на скале прибрежной\n",
      "Над тихой прозрачной рекой\n",
      "Он с удой беспечно\n",
      "Сидел\n",
      "И думой сердечной\n",
      "К прошедшему счастью летел\n"
     ]
    }
   ],
   "source": [
    "# ???\n",
    "import pandas as pd\n",
    "\n",
    "df = pd.read_csv('russian_poetry.csv')\n",
    "\n",
    "df['text'] = df['text'].replace(r'[^\\w\\s]','', regex=True)\n",
    "\n",
    "print(df['text'].iloc[0])"
   ]
  },
  {
   "cell_type": "markdown",
   "id": "9a7c2d6a",
   "metadata": {},
   "source": [
    "#### B: Кто здесь?\n",
    "В этом задании вы продолжите работать с spaCy на корпусе стихотворений русских поэтов. CSV-файл доступен под названием 'russian_poetry.csv’\n",
    "\n",
    "Вам необходимо воспользоваться извлечением именованных сущностей с помощью подгрузки модели spaCy для русского языка. После выведите самый частотный тип именованных сущностей, который встречается в корпусе стихотворений с помощью .describe()['top']."
   ]
  },
  {
   "cell_type": "code",
   "execution_count": 5,
   "id": "f09e9173",
   "metadata": {},
   "outputs": [
    {
     "name": "stdout",
     "output_type": "stream",
     "text": [
      "PER\n"
     ]
    }
   ],
   "source": [
    "import pandas as pd\n",
    "import spacy as spacy\n",
    "load_model = spacy.load('ru_core_news_sm')\n",
    "\n",
    "df = pd.read_csv('russian_poetry.csv')\n",
    "\n",
    "post = []\n",
    "texts = []\n",
    "for doc in load_model.pipe(df['text'].values):\n",
    "    for entity in doc.ents:\n",
    "        texts.append(entity.text)\n",
    "        post.append(entity.label_)\n",
    "\n",
    "ents_data = pd.DataFrame({'post':post, 'text':texts})\n",
    "\n",
    "print(ents_data['post'].describe()['top'])"
   ]
  },
  {
   "cell_type": "markdown",
   "id": "223d90a6",
   "metadata": {},
   "source": [
    "#### C: Чье это имя?\n",
    "В этом задании вы продолжите работать с spaCy на корпусе стихотворений русских поэтов. CSV-файл доступен под названием 'russian_poetry.csv’.\n",
    "\n",
    "Вам необходимо воспользоваться извлечением именованных сущностей с помощью подгрузки модели spaCy для русского языка. После выведите наиболее встречаемую именованную сущность в тексте стихотворений с помощью .describe()['top'].\n",
    "\n",
    "Формат вывода\n",
    "'Слово'"
   ]
  },
  {
   "cell_type": "code",
   "execution_count": 6,
   "id": "06cd5051",
   "metadata": {},
   "outputs": [
    {
     "name": "stdout",
     "output_type": "stream",
     "text": [
      "Чтоб\n"
     ]
    }
   ],
   "source": [
    "import pandas as pd\n",
    "import spacy as spacy\n",
    "load_model = spacy.load('ru_core_news_sm')\n",
    "\n",
    "df = pd.read_csv('russian_poetry.csv')\n",
    "\n",
    "post = []\n",
    "texts = []\n",
    "for doc in load_model.pipe(df['text'].values):\n",
    "    for entity in doc.ents:\n",
    "        texts.append(entity.text)\n",
    "        post.append(entity.label_)\n",
    "\n",
    "ents_data = pd.DataFrame({'post':post, 'text':texts})\n",
    "\n",
    "print(ents_data['text'].describe()['top'])"
   ]
  }
 ],
 "metadata": {
  "kernelspec": {
   "display_name": "Python 3",
   "language": "python",
   "name": "python3"
  },
  "language_info": {
   "codemirror_mode": {
    "name": "ipython",
    "version": 3
   },
   "file_extension": ".py",
   "mimetype": "text/x-python",
   "name": "python",
   "nbconvert_exporter": "python",
   "pygments_lexer": "ipython3",
   "version": "3.13.0"
  }
 },
 "nbformat": 4,
 "nbformat_minor": 5
}
