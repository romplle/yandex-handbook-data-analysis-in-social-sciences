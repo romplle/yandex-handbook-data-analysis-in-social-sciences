{
 "cells": [
  {
   "cell_type": "code",
   "execution_count": 105,
   "id": "b85cb556",
   "metadata": {},
   "outputs": [
    {
     "name": "stdout",
     "output_type": "stream",
     "text": [
      "Аватар: Путь воды (2022) — Кинопоиск\n"
     ]
    }
   ],
   "source": [
    "from bs4 import BeautifulSoup as BS\n",
    "\n",
    "with open('kinopoisk.html', 'r', encoding='utf-8') as file: \n",
    "    page = file.read()\n",
    "\n",
    "soup = BS(page, \"html.parser\")\n",
    "\n",
    "print(soup.title.text)"
   ]
  },
  {
   "cell_type": "code",
   "execution_count": 89,
   "id": "f09e9173",
   "metadata": {},
   "outputs": [
    {
     "name": "stdout",
     "output_type": "stream",
     "text": [
      "Аватар: Путь воды (2022)\n"
     ]
    }
   ],
   "source": [
    "from bs4 import BeautifulSoup as BS\n",
    "\n",
    "with open('kinopoisk.html', 'r', encoding='utf-8') as file: \n",
    "    page = file.read()\n",
    "\n",
    "soup = BS(page, \"html.parser\")\n",
    "\n",
    "print(soup.find(\"h1\", class_ = \"styles_title__65Zwx styles_root__l9kHe styles_root__5sqsd styles_rootInLight__juoEZ\").text)"
   ]
  },
  {
   "cell_type": "code",
   "execution_count": 91,
   "id": "06cd5051",
   "metadata": {},
   "outputs": [
    {
     "name": "stdout",
     "output_type": "stream",
     "text": [
      "Джеймс Кэмерон\n"
     ]
    }
   ],
   "source": [
    "from bs4 import BeautifulSoup\n",
    "\n",
    "with open('kinopoisk.html', 'r', encoding='utf-8') as f:\n",
    "    soup = BeautifulSoup(f.read(), 'html.parser')\n",
    "\n",
    "for row in soup.find_all('div', class_='styles_rowDark__ucbcz'):\n",
    "    if 'Режиссер' in row.find('div', class_='styles_titleDark___tfMR').text:\n",
    "        director = row.find('a', class_='styles_linkDark__7m929').text\n",
    "\n",
    "print(director)"
   ]
  },
  {
   "cell_type": "code",
   "execution_count": null,
   "id": "cf44f7b8",
   "metadata": {},
   "outputs": [
    {
     "name": "stdout",
     "output_type": "stream",
     "text": [
      "После принятия образа аватара солдат Джейк Салли становится предводителем народа на'ви и берет на себя миссию по защите новых друзей от корыстных бизнесменов с Земли. Теперь ему есть за кого бороться — с Джейком его прекрасная возлюбленная Нейтири. Когда на Пандору возвращаются до зубов вооруженные земляне, Джейк готов дать им отпор.\n"
     ]
    }
   ],
   "source": [
    "from bs4 import BeautifulSoup as BS\n",
    "\n",
    "with open('kinopoisk.html', 'r', encoding='utf-8') as file: \n",
    "    page = file.read()\n",
    "\n",
    "soup = BS(page, \"html.parser\")\n",
    "\n",
    "print(soup.find(\"p\", class_=\"styles_paragraph__wEGPz\").text)"
   ]
  },
  {
   "cell_type": "code",
   "execution_count": null,
   "id": "801f8bac",
   "metadata": {},
   "outputs": [
    {
     "data": {
      "text/plain": [
       "['После',\n",
       " 'Джейк',\n",
       " 'Салли',\n",
       " 'Земли',\n",
       " 'Теперь',\n",
       " 'Джейком',\n",
       " 'Нейтири',\n",
       " 'Когда',\n",
       " 'Пандору',\n",
       " 'Джейк']"
      ]
     },
     "execution_count": 77,
     "metadata": {},
     "output_type": "execute_result"
    }
   ],
   "source": [
    "from bs4 import BeautifulSoup as BS\n",
    "import re\n",
    "\n",
    "with open('kinopoisk.html', 'r', encoding='utf-8') as file: \n",
    "    page = file.read()\n",
    "\n",
    "soup = BS(page, \"html.parser\")\n",
    "\n",
    "text = soup.find(\"p\", class_=\"styles_paragraph__wEGPz\").text\n",
    "\n",
    "print(re.findall(r'[А-ЯЁ][а-яё]+', text))"
   ]
  },
  {
   "cell_type": "code",
   "execution_count": null,
   "id": "ebe8c31e",
   "metadata": {},
   "outputs": [
    {
     "data": {
      "text/plain": [
       "15"
      ]
     },
     "execution_count": 82,
     "metadata": {},
     "output_type": "execute_result"
    }
   ],
   "source": [
    "from bs4 import BeautifulSoup as BS\n",
    "\n",
    "with open('kinopoisk.html', 'r', encoding='utf-8') as file: \n",
    "    page = file.read()\n",
    "\n",
    "soup = BS(page, \"html.parser\")\n",
    "\n",
    "text = soup.find_all(\"li\", class_ = \"styles_root__vKDSE styles_rootInLight__EFZzH\")\n",
    "\n",
    "print(len(text))"
   ]
  },
  {
   "cell_type": "code",
   "execution_count": 98,
   "id": "de074b1d",
   "metadata": {},
   "outputs": [
    {
     "name": "stdout",
     "output_type": "stream",
     "text": [
      "Сэм Уортингтон\n",
      "Зои Салдана\n",
      "Сигурни Уивер\n",
      "Стивен Лэнг\n",
      "Кейт Уинслет\n",
      "Клифф Кёртис\n",
      "Джоэль Мур\n",
      "Си Си Эйч Паундер\n",
      "Иди Фалько\n",
      "Брендан Коуэлл\n",
      "Александр Ноткин\n",
      "Виктория Павленко\n",
      "Карина Кудекова\n",
      "Денис Анников\n",
      "Ольга Бобрик\n"
     ]
    }
   ],
   "source": [
    "from bs4 import BeautifulSoup as BS\n",
    "\n",
    "with open('kinopoisk.html', 'r', encoding='utf-8') as file: \n",
    "    page = file.read()\n",
    "\n",
    "soup = BS(page, \"html.parser\")\n",
    "\n",
    "for row in soup.find_all(\"li\", class_ = \"styles_root__vKDSE styles_rootInLight__EFZzH\"):\n",
    "    actor = row.find('a', class_ = 'styles_link__Act80').text\n",
    "    print(actor)"
   ]
  },
  {
   "cell_type": "code",
   "execution_count": 101,
   "id": "ba93647b",
   "metadata": {},
   "outputs": [
    {
     "name": "stdout",
     "output_type": "stream",
     "text": [
      "99\n"
     ]
    }
   ],
   "source": [
    "from bs4 import BeautifulSoup as BS\n",
    "\n",
    "with open('kinopoisk.html', 'r', encoding='utf-8') as file: \n",
    "    page = file.read()\n",
    "\n",
    "soup = BS(page, \"html.parser\")\n",
    "\n",
    "print(len(soup.find_all(\"a\")))"
   ]
  },
  {
   "cell_type": "code",
   "execution_count": null,
   "id": "36d70e3e",
   "metadata": {},
   "outputs": [
    {
     "name": "stdout",
     "output_type": "stream",
     "text": [
      "/\n",
      "https://hd.kinopoisk.ru/\n",
      "/lists/categories/movies/1/\n",
      "/lists/categories/movies/3/\n",
      "/afisha/new/\n",
      "/media/\n",
      "/\n",
      "https://hd.kinopoisk.ru/\n",
      "https://www.kinopoisk.ru/special/smarttv_instruction?utm_source=kinopoisk&utm_medium=selfpromo_kp&utm_campaign=button_header\n",
      "/s/\n",
      "https://hd.kinopoisk.ru/?source=kinopoisk_head_button\n",
      "/film/505898/posters/\n",
      "/film/505898/video/184911/\n",
      "/lists/movies/year--2022/?b=films&b=top\n",
      "/lists/movies/country--1/?b=films&b=top\n",
      "/lists/movies/genre--sci-fi/?b=films&b=top\n",
      "/lists/movies/genre--fantasy/?b=films&b=top\n",
      "/lists/movies/genre--action/?b=films&b=top\n",
      "/lists/movies/genre--adventure/?b=films&b=top\n",
      "/film/505898/keywords/\n",
      "/name/27977/\n",
      "/name/27977/\n",
      "/name/79192/\n",
      "/name/79193/\n",
      "/film/505898/cast/who_is/writer/\n",
      "/name/27977/\n",
      "/name/37064/\n",
      "/name/2033201/\n",
      "/film/505898/cast/who_is/producer/\n",
      "/name/408797/\n",
      "/name/1345620/\n",
      "/name/2638091/\n",
      "/name/1986747/\n",
      "/name/2008685/\n",
      "/film/505898/cast/who_is/design/\n",
      "/name/2004040/\n",
      "/name/27977/\n",
      "/name/1813202/\n",
      "/film/505898/cast/who_is/editor/\n",
      "/film/505898/box/\n",
      "/film/505898/box/\n",
      "/film/505898/box/\n",
      "/film/505898/box/\n",
      "/film/505898/dates/\n",
      "/film/505898/dates/\n",
      "/film/505898/rn/PG-13/\n",
      "/film/505898/cast/\n",
      "/name/17733/\n",
      "/name/10661/\n",
      "/name/6915/\n",
      "/name/2807/\n",
      "/name/21709/\n",
      "/name/21040/\n",
      "/name/89156/\n",
      "/name/23654/\n",
      "/name/12194/\n",
      "/name/18505/\n",
      "/film/505898/cast/\n",
      "/film/505898/cast/who_is/voice/\n",
      "/name/1802389/\n",
      "/name/7042340/\n",
      "/name/6759513/\n",
      "/name/6344920/\n",
      "/name/4770440/\n",
      "/film/505898/cast/who_is/voice/\n",
      "/film/505898/awards/\n",
      "/film/505898/awards/\n",
      "/film/505898/awards/\n",
      "/film/505898/awards/\n",
      "/film/505898/awards/\n",
      "/film/505898/dates/\n",
      "/film/505898/stills/\n",
      "/film/505898/video/\n",
      "/film/505898/studio/\n",
      "/film/505898/other/\n",
      "/film/505898/reviews/\n",
      "/film/505898/sites/\n",
      "/film/505898/tracks/\n",
      "/film/505898/subscribe/\n",
      "/film/505898/votes/\n",
      "https://vk.com/kinopoisk\n",
      "https://twitter.com/kinopoiskru\n",
      "https://telegram.me/kinopoisk\n",
      "https://www.youtube.com/user/kinopoisk\n",
      "https://yandex.ru/jobs/vacancies?services=kinopoisk\n",
      "https://yandex.ru/adv/products/display/kinopoiskmedia\n",
      "/docs/usage/\n",
      "https://yandex.ru/support/kinopoisk/index.html\n",
      "/media/rubric/19/\n",
      "https://kinopoisk.userecho.com/\n",
      "https://10267.redirect.appmetrica.yandex.com/mainView?appmetrica_tracking_id=170895231946863928\n",
      "https://10267.redirect.appmetrica.yandex.com/?appmetrica_tracking_id=603240792315703184\n",
      "https://10267.redirect.appmetrica.yandex.com/?appmetrica_tracking_id=1179706852124993595\n",
      "https://www.kinopoisk.ru/\n",
      "https://tv.yandex.ru\n",
      "https://music.yandex.ru\n",
      "https://afisha.yandex.ru\n",
      "https://bookmate.ru\n",
      "https://yandex.ru/all\n"
     ]
    }
   ],
   "source": [
    "from bs4 import BeautifulSoup as BS\n",
    "\n",
    "with open('kinopoisk.html', 'r', encoding='utf-8') as file: \n",
    "    page = file.read()\n",
    "\n",
    "soup = BS(page, \"html.parser\")\n",
    "\n",
    "links = soup.find_all(\"a\")\n",
    "for row in soup.find_all(\"a\"):\n",
    "    film = row.get(\"href\")\n",
    "    print(film) "
   ]
  }
 ],
 "metadata": {
  "kernelspec": {
   "display_name": "Python 3",
   "language": "python",
   "name": "python3"
  },
  "language_info": {
   "codemirror_mode": {
    "name": "ipython",
    "version": 3
   },
   "file_extension": ".py",
   "mimetype": "text/x-python",
   "name": "python",
   "nbconvert_exporter": "python",
   "pygments_lexer": "ipython3",
   "version": "3.10.11"
  }
 },
 "nbformat": 4,
 "nbformat_minor": 5
}
