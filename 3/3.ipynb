{
 "cells": [
  {
   "cell_type": "markdown",
   "id": "84631abe",
   "metadata": {},
   "source": [
    "#### A: Самый популярный писатель\n",
    "В этой и в следующих задачах мы используем набор данных с самыми популярными книгами на Amazon. Мы добавили в него несколько дополнительных переменных. CSV-файл доступен под названием “books_prep.csv”.\n",
    "\n",
    "В прошлых главах мы говорили о том, что метод describe выводит несколько полезных описательных статистик. Мы получаем результат в виде серии (так называется датафрейм из одной колонки), поэтому мы можем вывести отдельный показатель, используя стандартный синтаксис pandas.\n",
    "\n",
    "Например, чтобы вывести среднее значение, мы можем использовать следующую инструкцию: df['col_name'].describe()['mean']\n",
    "\n",
    "###Выведите имя самого популярного писателя в наборе данных\n",
    "\n",
    "Чтобы решить задачу, используйте описанный выше синтаксис уточнений к методу describe.\n",
    "\n",
    "Формат вывода\n",
    "'Jhon Jhonson'"
   ]
  },
  {
   "cell_type": "code",
   "execution_count": null,
   "id": "2b95bffa",
   "metadata": {},
   "outputs": [
    {
     "name": "stdout",
     "output_type": "stream",
     "text": [
      "Jeff Kinney\n"
     ]
    }
   ],
   "source": [
    "import pandas as pd\n",
    "\n",
    "df = pd.read_csv('books_prep.csv')\n",
    "\n",
    "author = df['Author'].describe()['top']\n",
    "\n",
    "print(author)"
   ]
  },
  {
   "cell_type": "markdown",
   "id": "929133c4",
   "metadata": {},
   "source": [
    "#### B: Среднее значение рейтинга 1\n",
    "Определите средние значения рейтинга для «дешёвых» и «дорогих» книг.\n",
    "\n",
    "Попробуем исследовать этот набор данных. Мы создали переменную “Price (Above Average)”, которая содержит “Yes”, если цена книги больше средней, и “No”, если меньше.\n",
    "\n",
    "Мы предполагаем, что рейтинг книги не зависит от её стоимости. Давайте проверим эту гипотезу. Начнём с того, что выведем средние значения пользовательского рейтинга для каждой из групп.\n",
    "\n",
    "Вам необходимо загрузить набор данных и напечатать средний рейтинг для «дорогих» книг. CSV-файл доступен под названием “books_prep.csv”.\n",
    "\n",
    "Округлите ответ до 2 числа после запятой с помощью команды round.\n",
    "\n",
    "Формат вывода\n",
    "2.65"
   ]
  },
  {
   "cell_type": "code",
   "execution_count": 3,
   "id": "01901c24",
   "metadata": {},
   "outputs": [
    {
     "name": "stdout",
     "output_type": "stream",
     "text": [
      "4.56\n"
     ]
    }
   ],
   "source": [
    "import pandas as pd\n",
    "\n",
    "df = pd.read_csv('books_prep.csv')\n",
    "\n",
    "max_mean = df[df['Price (Above Average)'] ==  'Yes']['User Rating'].mean()\n",
    "\n",
    "print(round(max_mean, 2))"
   ]
  },
  {
   "cell_type": "markdown",
   "id": "77c7fb0c",
   "metadata": {},
   "source": [
    "#### C: Среднее значение рейтинга 2\n",
    "Определите средние значения рейтинга для «дешёвых» и «дорогих» книг.\n",
    "\n",
    "А теперь вам необходимо загрузить набор данных и напечатать средний рейтинг для «дешёвых» книг. CSV-файл доступен под названием “books_prep.csv”.\n",
    "\n",
    "Округлите ответ до 2 числа после запятой с помощью команды round.\n",
    "\n",
    "Формат вывода\n",
    "2.65"
   ]
  },
  {
   "cell_type": "code",
   "execution_count": 4,
   "id": "f3c5226c",
   "metadata": {},
   "outputs": [
    {
     "name": "stdout",
     "output_type": "stream",
     "text": [
      "4.65\n"
     ]
    }
   ],
   "source": [
    "import pandas as pd\n",
    "\n",
    "df = pd.read_csv('books_prep.csv')\n",
    "\n",
    "min_mean = df[df['Price (Above Average)'] ==  'No']['User Rating'].mean()\n",
    "\n",
    "print(round(min_mean, 2))"
   ]
  },
  {
   "cell_type": "markdown",
   "id": "007f7a32",
   "metadata": {},
   "source": [
    "#### D: P-value\n",
    "Проведите тест для определения равенства дисперсий. Выведите значение p-value.\n",
    "\n",
    "Прежде чем сравнивать средние, нам необходимо сравнить дисперсии. Для этого мы можем использовать критерий Левене.\n",
    "\n",
    "Проведите тест для определения равенства дисперсий у “дешёвых” и “дорогих” книг. Выведите значение p-value.\n",
    "\n",
    "Вам необходимо вывести только значение p-value и округлить его до 2 знаков после запятой с помощью команды round. Попробуйте немного изменить функцию levene('add something here').pvalue. CSV-файл доступен под названием “books_prep.csv”.\n",
    "\n",
    "Формат вывода\n",
    "2.65"
   ]
  },
  {
   "cell_type": "code",
   "execution_count": 9,
   "id": "2b9f8e8e",
   "metadata": {},
   "outputs": [
    {
     "name": "stdout",
     "output_type": "stream",
     "text": [
      "0.1\n"
     ]
    }
   ],
   "source": [
    "import pandas as pd\n",
    "from scipy.stats import levene\n",
    "\n",
    "df = pd.read_csv('books_prep.csv')\n",
    "\n",
    "f_stat, p_value = levene(df[df['Price (Above Average)'] ==  'No']['User Rating'], df[df['Price (Above Average)'] ==  'Yes']['User Rating'])\n",
    "\n",
    "print(round(p_value, 2))"
   ]
  },
  {
   "cell_type": "markdown",
   "id": "0c78198c",
   "metadata": {},
   "source": [
    "#### E: Равенство средних\n",
    "Проведите тест для определения равенства средних. Выведите значение p-value\n",
    "\n",
    "Теперь давайте попробуем понять, является ли значимым то различие между средними, которое мы увидели. Вам снова необходимо вывести только значение p-value и округлить его до 2 знаков после запятой с помощью команды round. Модифицировать метод необходимо аналогично предыдущей задаче.\n",
    "\n",
    "CSV-файл доступен под названием “books_prep.csv”.\n",
    "\n",
    "Формат вывода\n",
    "4.86"
   ]
  },
  {
   "cell_type": "code",
   "execution_count": 6,
   "id": "91e0b7f3",
   "metadata": {},
   "outputs": [
    {
     "name": "stdout",
     "output_type": "stream",
     "text": [
      "0.0\n"
     ]
    }
   ],
   "source": [
    "import pandas as pd\n",
    "from scipy.stats import ttest_ind\n",
    "\n",
    "df = pd.read_csv('books_prep.csv')\n",
    "\n",
    "f_stat, p_value = ttest_ind(df[df['Price (Above Average)'] ==  'No']['User Rating'], df[df['Price (Above Average)'] ==  'Yes']['User Rating'], equal_var=True)\n",
    "\n",
    "print(round(p_value, 2))"
   ]
  },
  {
   "cell_type": "markdown",
   "id": "e63068f7",
   "metadata": {},
   "source": [
    "#### F: ANOVA\n",
    "Проведите тест ANOVA. Выведите значение p-value\n",
    "\n",
    "Ещё в этом примере мы создали переменную “User Rating (Round)”, которая содержит округлённые до целого значения среднего пользовательского рейтинга. Мы предполагаем, что рейтинг книги для каждой из групп, — у нас получилось их три, — зависит от числа рецензий (на хорошие книги люди охотнее пишут рецензии). Давайте проверим эту гипотезу с помощью теста ANOVA.\n",
    "\n",
    "Вам необходимо загрузить набор данных и вывести только значение p-value, округленное до 2 знаков после запятой. CSV-файл доступен под названием “books_prep.csv”.\n",
    "\n",
    "Формат вывода\n",
    "0.12\n"
   ]
  },
  {
   "cell_type": "code",
   "execution_count": 7,
   "id": "f7d9ddee",
   "metadata": {},
   "outputs": [
    {
     "name": "stdout",
     "output_type": "stream",
     "text": [
      "0.3\n"
     ]
    }
   ],
   "source": [
    "import pandas as pd\n",
    "from scipy.stats import f_oneway\n",
    "\n",
    "data = pd.read_csv('books_prep.csv')\n",
    "\n",
    "group1 = data[data['User Rating (Round)'] == 4]['Reviews']\n",
    "group2 = data[data['User Rating (Round)'] == 5]['Reviews']\n",
    "group3 = data[data['User Rating (Round)'] == 3]['Reviews']\n",
    "\n",
    "f_stat, p_value = f_oneway(group1, group2, group3)\n",
    "# p_value = f_oneway(group1, group2, group3).pvalue\n",
    "\n",
    "print(round(p_value, 2))"
   ]
  }
 ],
 "metadata": {
  "kernelspec": {
   "display_name": "Python 3",
   "language": "python",
   "name": "python3"
  },
  "language_info": {
   "codemirror_mode": {
    "name": "ipython",
    "version": 3
   },
   "file_extension": ".py",
   "mimetype": "text/x-python",
   "name": "python",
   "nbconvert_exporter": "python",
   "pygments_lexer": "ipython3",
   "version": "3.10.11"
  }
 },
 "nbformat": 4,
 "nbformat_minor": 5
}
